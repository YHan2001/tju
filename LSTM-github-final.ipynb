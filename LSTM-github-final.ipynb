{
 "cells": [
  {
   "cell_type": "markdown",
   "metadata": {},
   "source": [
    "# 简单的LSTM模型进行发电功率预测"
   ]
  },
  {
   "cell_type": "markdown",
   "metadata": {},
   "source": [
    "导入包"
   ]
  },
  {
   "cell_type": "code",
   "execution_count": 1,
   "metadata": {},
   "outputs": [],
   "source": [
    "import numpy as np\n",
    "import os\n",
    "import tensorflow as tf\n",
    "import random\n",
    "import tensorflow.keras as keras\n",
    "from tensorflow.keras.models import Sequential\n",
    "from tensorflow.keras.layers import LSTM\n",
    "from tensorflow.keras.layers import Dense, Dropout\n",
    "from tensorflow.keras.layers import Conv1D\n",
    "from tensorflow.keras.layers import Bidirectional\n",
    "import pandas as pd\n",
    "from matplotlib import pyplot as plt\n",
    "from sklearn.preprocessing import MinMaxScaler\n",
    "# import seaborn as sns\n",
    "from sklearn import metrics\n",
    "from numpy import array\n",
    "from numpy import hstack\n",
    "from math import sqrt\n",
    "\n",
    "from sklearn.metrics import mean_squared_error\n",
    "# tf.random.set_seed(1234)\n",
    "# random.seed(1234)\n",
    "# np.random.seed(1234)"
   ]
  },
  {
   "cell_type": "code",
   "execution_count": 5,
   "metadata": {},
   "outputs": [],
   "source": [
    "\n",
    "# split a multivariate sequence into samples\n",
    "def split_sequences(sequences, n_steps_in, n_steps_out):\n",
    "\tX, y = list(), list()\n",
    "\tfor i in range(len(sequences)):\n",
    "\t\t# find the end of this pattern\n",
    "\t\tend_ix = i + n_steps_in\n",
    "\t\tout_end_ix = end_ix + n_steps_out-1\n",
    "\t\t# check if we are beyond the dataset\n",
    "\t\tif out_end_ix > len(sequences):\n",
    "\t\t\tbreak\n",
    "\t\t# gather input and output parts of the pattern\n",
    "# \t\tseq_x, seq_y = sequences[i:end_ix, :-1], sequences[(i+(n_steps_in - n_steps_out)):end_ix, -1]\n",
    "\t\tseq_x, seq_y = sequences[i:end_ix, :-1], sequences[i:end_ix, -1]\n",
    "\t\tX.append(seq_x)\n",
    "\t\ty.append(seq_y)\n",
    "\treturn array(X), array(y)\n",
    "\n"
   ]
  },
  {
   "cell_type": "code",
   "execution_count": 6,
   "metadata": {},
   "outputs": [],
   "source": [
    "def seed_tensorflow(seed):\n",
    "    random.seed(seed)\n",
    "    os.environ['PYTHONHASHSEED'] = str(seed)\n",
    "    np.random.seed(seed)\n",
    "    tf.random.set_seed(seed)\n",
    "seed_tensorflow(1)"
   ]
  },
  {
   "cell_type": "markdown",
   "metadata": {},
   "source": [
    "添加时间变量函数，将时间添加到输入参数当中"
   ]
  },
  {
   "cell_type": "code",
   "execution_count": 7,
   "metadata": {},
   "outputs": [],
   "source": [
    "def add_time_variables(df: pd.DataFrame) -> pd.DataFrame:\n",
    "    \"\"\"\n",
    "    添加时间变量\n",
    "    :param df:\n",
    "    :return:\n",
    "    \"\"\"\n",
    "    df['minute_of_day'] = df.index.hour * 60 + df.index.minute\n",
    "    df['hour_of_day'] = df.index.hour\n",
    "    df['month'] = df.index.month\n",
    "    df['day_of_month'] = df.index.day\n",
    "#     df['doy'] = df.index.dayofyear\n",
    "    return df"
   ]
  },
  {
   "cell_type": "markdown",
   "metadata": {},
   "source": [
    "读取clean后的数据，并将空值转换为0"
   ]
  },
  {
   "cell_type": "code",
   "execution_count": 14,
   "metadata": {},
   "outputs": [
    {
     "data": {
      "text/plain": [
       "(4332, 25)"
      ]
     },
     "execution_count": 14,
     "metadata": {},
     "output_type": "execute_result"
    }
   ],
   "source": [
    "# df=pd.read_csv(r\"./wuyuhan/add_time_data_plus/lanneng/add_time_gfs_min.csv\",parse_dates=[\"time\"],index_col=[0])\n",
    "df=pd.read_csv(r\"/home/lenovo/wuyuhan/add_time_data_new/add_time_data_day_sensity/lanneng/mid2_cref_50%.csv\")\n",
    "# df = df.iloc[:,-3:]\n",
    "df.drop('Unnamed: 0',axis = 1,inplace = True)\n",
    "\n",
    "df['time']= pd.to_datetime(df['time']) \n",
    "df['Year'] = df['time'].dt.year \n",
    "df['Month'] = df['time'].dt.month\n",
    "df['Day'] = df['time'].dt.day\n",
    "\n",
    "df.set_index(keys = 'time',inplace = True)\n",
    "# where_are_nan = np.isnan(df)\n",
    "# where_are_inf = np.isinf(df)\n",
    "# df[where_are_nan] = 0\n",
    "# df[where_are_inf] = 0\n",
    "\n",
    "# df = add_time_variables(df)\n",
    "df = df.fillna(value = 0)\n",
    "df.shape"
   ]
  },
  {
   "cell_type": "code",
   "execution_count": 15,
   "metadata": {},
   "outputs": [],
   "source": [
    "# df.to_csv(r'E:\\wyh202307\\add_time_era5_15min_overlap.csv')"
   ]
  },
  {
   "cell_type": "code",
   "execution_count": 16,
   "metadata": {
    "scrolled": false
   },
   "outputs": [
    {
     "data": {
      "text/html": [
       "<div>\n",
       "<style scoped>\n",
       "    .dataframe tbody tr th:only-of-type {\n",
       "        vertical-align: middle;\n",
       "    }\n",
       "\n",
       "    .dataframe tbody tr th {\n",
       "        vertical-align: top;\n",
       "    }\n",
       "\n",
       "    .dataframe thead th {\n",
       "        text-align: right;\n",
       "    }\n",
       "</style>\n",
       "<table border=\"1\" class=\"dataframe\">\n",
       "  <thead>\n",
       "    <tr style=\"text-align: right;\">\n",
       "      <th></th>\n",
       "      <th>minutes</th>\n",
       "      <th>Relative_humidity_isobaric</th>\n",
       "      <th>Temperature_height_above_ground</th>\n",
       "      <th>Downward_Short-Wave_Radiation_Flux_surface_3_Hour_Average</th>\n",
       "      <th>Sensible_heat_net_flux_surface_3_Hour_Average</th>\n",
       "      <th>Potential_Evaporation_Rate_surface</th>\n",
       "      <th>Composite_reflectivity_entire_atmosphere</th>\n",
       "      <th>Sunshine_Duration_surface</th>\n",
       "      <th>Low_cloud_cover_low_cloud</th>\n",
       "      <th>v10-1</th>\n",
       "      <th>...</th>\n",
       "      <th>mcc-1</th>\n",
       "      <th>lspf-1</th>\n",
       "      <th>pev-1</th>\n",
       "      <th>pv-1</th>\n",
       "      <th>r-1</th>\n",
       "      <th>lanneng-1</th>\n",
       "      <th>lanneng</th>\n",
       "      <th>Year</th>\n",
       "      <th>Month</th>\n",
       "      <th>Day</th>\n",
       "    </tr>\n",
       "    <tr>\n",
       "      <th>time</th>\n",
       "      <th></th>\n",
       "      <th></th>\n",
       "      <th></th>\n",
       "      <th></th>\n",
       "      <th></th>\n",
       "      <th></th>\n",
       "      <th></th>\n",
       "      <th></th>\n",
       "      <th></th>\n",
       "      <th></th>\n",
       "      <th></th>\n",
       "      <th></th>\n",
       "      <th></th>\n",
       "      <th></th>\n",
       "      <th></th>\n",
       "      <th></th>\n",
       "      <th></th>\n",
       "      <th></th>\n",
       "      <th></th>\n",
       "      <th></th>\n",
       "      <th></th>\n",
       "    </tr>\n",
       "  </thead>\n",
       "  <tbody>\n",
       "    <tr>\n",
       "      <th>2021-01-05 06:00:00</th>\n",
       "      <td>6120</td>\n",
       "      <td>86.433333</td>\n",
       "      <td>282.139017</td>\n",
       "      <td>0.000000</td>\n",
       "      <td>-11.274951</td>\n",
       "      <td>15.481628</td>\n",
       "      <td>2.839994</td>\n",
       "      <td>0.000000</td>\n",
       "      <td>0.0</td>\n",
       "      <td>-0.272444</td>\n",
       "      <td>...</td>\n",
       "      <td>0.0</td>\n",
       "      <td>0.0</td>\n",
       "      <td>8.520000e-07</td>\n",
       "      <td>1.390000e-07</td>\n",
       "      <td>45.138010</td>\n",
       "      <td>0.0000</td>\n",
       "      <td>0.0000</td>\n",
       "      <td>2021</td>\n",
       "      <td>1</td>\n",
       "      <td>5</td>\n",
       "    </tr>\n",
       "    <tr>\n",
       "      <th>2021-01-05 07:00:00</th>\n",
       "      <td>6180</td>\n",
       "      <td>87.666667</td>\n",
       "      <td>282.055683</td>\n",
       "      <td>0.000000</td>\n",
       "      <td>-10.957740</td>\n",
       "      <td>20.369789</td>\n",
       "      <td>16.734994</td>\n",
       "      <td>0.000000</td>\n",
       "      <td>0.0</td>\n",
       "      <td>-0.381931</td>\n",
       "      <td>...</td>\n",
       "      <td>0.0</td>\n",
       "      <td>0.0</td>\n",
       "      <td>7.830000e-07</td>\n",
       "      <td>1.500000e-07</td>\n",
       "      <td>49.018260</td>\n",
       "      <td>0.5507</td>\n",
       "      <td>0.0000</td>\n",
       "      <td>2021</td>\n",
       "      <td>1</td>\n",
       "      <td>5</td>\n",
       "    </tr>\n",
       "    <tr>\n",
       "      <th>2021-01-05 08:00:00</th>\n",
       "      <td>6240</td>\n",
       "      <td>88.900000</td>\n",
       "      <td>281.972350</td>\n",
       "      <td>0.000000</td>\n",
       "      <td>-10.640528</td>\n",
       "      <td>25.257950</td>\n",
       "      <td>30.629994</td>\n",
       "      <td>0.000000</td>\n",
       "      <td>0.0</td>\n",
       "      <td>-0.526926</td>\n",
       "      <td>...</td>\n",
       "      <td>0.0</td>\n",
       "      <td>0.0</td>\n",
       "      <td>-6.950000e-06</td>\n",
       "      <td>1.320000e-07</td>\n",
       "      <td>51.873783</td>\n",
       "      <td>6.2249</td>\n",
       "      <td>1.3288</td>\n",
       "      <td>2021</td>\n",
       "      <td>1</td>\n",
       "      <td>5</td>\n",
       "    </tr>\n",
       "    <tr>\n",
       "      <th>2021-01-05 09:00:00</th>\n",
       "      <td>6300</td>\n",
       "      <td>85.533333</td>\n",
       "      <td>282.263387</td>\n",
       "      <td>73.333333</td>\n",
       "      <td>12.187819</td>\n",
       "      <td>73.669287</td>\n",
       "      <td>18.039994</td>\n",
       "      <td>3599.333333</td>\n",
       "      <td>0.0</td>\n",
       "      <td>-1.337719</td>\n",
       "      <td>...</td>\n",
       "      <td>0.0</td>\n",
       "      <td>0.0</td>\n",
       "      <td>-6.640000e-05</td>\n",
       "      <td>1.260000e-07</td>\n",
       "      <td>53.121407</td>\n",
       "      <td>46.8818</td>\n",
       "      <td>3.1089</td>\n",
       "      <td>2021</td>\n",
       "      <td>1</td>\n",
       "      <td>5</td>\n",
       "    </tr>\n",
       "    <tr>\n",
       "      <th>2021-01-05 10:00:00</th>\n",
       "      <td>6360</td>\n",
       "      <td>82.166667</td>\n",
       "      <td>282.554423</td>\n",
       "      <td>146.666667</td>\n",
       "      <td>35.016166</td>\n",
       "      <td>122.080623</td>\n",
       "      <td>5.449994</td>\n",
       "      <td>7198.666667</td>\n",
       "      <td>0.0</td>\n",
       "      <td>-2.376953</td>\n",
       "      <td>...</td>\n",
       "      <td>0.0</td>\n",
       "      <td>0.0</td>\n",
       "      <td>-1.344850e-04</td>\n",
       "      <td>7.510000e-09</td>\n",
       "      <td>50.605130</td>\n",
       "      <td>65.3503</td>\n",
       "      <td>5.5107</td>\n",
       "      <td>2021</td>\n",
       "      <td>1</td>\n",
       "      <td>5</td>\n",
       "    </tr>\n",
       "  </tbody>\n",
       "</table>\n",
       "<p>5 rows × 25 columns</p>\n",
       "</div>"
      ],
      "text/plain": [
       "                     minutes  Relative_humidity_isobaric  \\\n",
       "time                                                       \n",
       "2021-01-05 06:00:00     6120                   86.433333   \n",
       "2021-01-05 07:00:00     6180                   87.666667   \n",
       "2021-01-05 08:00:00     6240                   88.900000   \n",
       "2021-01-05 09:00:00     6300                   85.533333   \n",
       "2021-01-05 10:00:00     6360                   82.166667   \n",
       "\n",
       "                     Temperature_height_above_ground  \\\n",
       "time                                                   \n",
       "2021-01-05 06:00:00                       282.139017   \n",
       "2021-01-05 07:00:00                       282.055683   \n",
       "2021-01-05 08:00:00                       281.972350   \n",
       "2021-01-05 09:00:00                       282.263387   \n",
       "2021-01-05 10:00:00                       282.554423   \n",
       "\n",
       "                     Downward_Short-Wave_Radiation_Flux_surface_3_Hour_Average  \\\n",
       "time                                                                             \n",
       "2021-01-05 06:00:00                                           0.000000           \n",
       "2021-01-05 07:00:00                                           0.000000           \n",
       "2021-01-05 08:00:00                                           0.000000           \n",
       "2021-01-05 09:00:00                                          73.333333           \n",
       "2021-01-05 10:00:00                                         146.666667           \n",
       "\n",
       "                     Sensible_heat_net_flux_surface_3_Hour_Average  \\\n",
       "time                                                                 \n",
       "2021-01-05 06:00:00                                     -11.274951   \n",
       "2021-01-05 07:00:00                                     -10.957740   \n",
       "2021-01-05 08:00:00                                     -10.640528   \n",
       "2021-01-05 09:00:00                                      12.187819   \n",
       "2021-01-05 10:00:00                                      35.016166   \n",
       "\n",
       "                     Potential_Evaporation_Rate_surface  \\\n",
       "time                                                      \n",
       "2021-01-05 06:00:00                           15.481628   \n",
       "2021-01-05 07:00:00                           20.369789   \n",
       "2021-01-05 08:00:00                           25.257950   \n",
       "2021-01-05 09:00:00                           73.669287   \n",
       "2021-01-05 10:00:00                          122.080623   \n",
       "\n",
       "                     Composite_reflectivity_entire_atmosphere  \\\n",
       "time                                                            \n",
       "2021-01-05 06:00:00                                  2.839994   \n",
       "2021-01-05 07:00:00                                 16.734994   \n",
       "2021-01-05 08:00:00                                 30.629994   \n",
       "2021-01-05 09:00:00                                 18.039994   \n",
       "2021-01-05 10:00:00                                  5.449994   \n",
       "\n",
       "                     Sunshine_Duration_surface  Low_cloud_cover_low_cloud  \\\n",
       "time                                                                        \n",
       "2021-01-05 06:00:00                   0.000000                        0.0   \n",
       "2021-01-05 07:00:00                   0.000000                        0.0   \n",
       "2021-01-05 08:00:00                   0.000000                        0.0   \n",
       "2021-01-05 09:00:00                3599.333333                        0.0   \n",
       "2021-01-05 10:00:00                7198.666667                        0.0   \n",
       "\n",
       "                        v10-1  ...  mcc-1  lspf-1         pev-1          pv-1  \\\n",
       "time                           ...                                              \n",
       "2021-01-05 06:00:00 -0.272444  ...    0.0     0.0  8.520000e-07  1.390000e-07   \n",
       "2021-01-05 07:00:00 -0.381931  ...    0.0     0.0  7.830000e-07  1.500000e-07   \n",
       "2021-01-05 08:00:00 -0.526926  ...    0.0     0.0 -6.950000e-06  1.320000e-07   \n",
       "2021-01-05 09:00:00 -1.337719  ...    0.0     0.0 -6.640000e-05  1.260000e-07   \n",
       "2021-01-05 10:00:00 -2.376953  ...    0.0     0.0 -1.344850e-04  7.510000e-09   \n",
       "\n",
       "                           r-1  lanneng-1  lanneng  Year  Month  Day  \n",
       "time                                                                  \n",
       "2021-01-05 06:00:00  45.138010     0.0000   0.0000  2021      1    5  \n",
       "2021-01-05 07:00:00  49.018260     0.5507   0.0000  2021      1    5  \n",
       "2021-01-05 08:00:00  51.873783     6.2249   1.3288  2021      1    5  \n",
       "2021-01-05 09:00:00  53.121407    46.8818   3.1089  2021      1    5  \n",
       "2021-01-05 10:00:00  50.605130    65.3503   5.5107  2021      1    5  \n",
       "\n",
       "[5 rows x 25 columns]"
      ]
     },
     "execution_count": 16,
     "metadata": {},
     "output_type": "execute_result"
    }
   ],
   "source": [
    "df.head()"
   ]
  },
  {
   "cell_type": "code",
   "execution_count": 17,
   "metadata": {},
   "outputs": [],
   "source": [
    "from sklearn.model_selection import train_test_split\n",
    "df_for_training = df.loc[df['Day']<=24]\n",
    "df_for_testing  = df.loc[df['Day']>24]\n",
    "\n",
    "df_for_training = df_for_training.drop(labels = ['Year','Month','Day'], axis = 1)\n",
    "df_for_testing = df_for_testing.drop(labels = ['Year','Month','Day'] ,axis = 1)"
   ]
  },
  {
   "cell_type": "markdown",
   "metadata": {},
   "source": [
    "使用后3000条数据进行train和test，其中后3000条的前2400条进行train，后600条进行测test"
   ]
  },
  {
   "cell_type": "code",
   "execution_count": 18,
   "metadata": {},
   "outputs": [
    {
     "data": {
      "text/html": [
       "<div>\n",
       "<style scoped>\n",
       "    .dataframe tbody tr th:only-of-type {\n",
       "        vertical-align: middle;\n",
       "    }\n",
       "\n",
       "    .dataframe tbody tr th {\n",
       "        vertical-align: top;\n",
       "    }\n",
       "\n",
       "    .dataframe thead th {\n",
       "        text-align: right;\n",
       "    }\n",
       "</style>\n",
       "<table border=\"1\" class=\"dataframe\">\n",
       "  <thead>\n",
       "    <tr style=\"text-align: right;\">\n",
       "      <th></th>\n",
       "      <th>minutes</th>\n",
       "      <th>Relative_humidity_isobaric</th>\n",
       "      <th>Temperature_height_above_ground</th>\n",
       "      <th>Downward_Short-Wave_Radiation_Flux_surface_3_Hour_Average</th>\n",
       "      <th>Sensible_heat_net_flux_surface_3_Hour_Average</th>\n",
       "      <th>Potential_Evaporation_Rate_surface</th>\n",
       "      <th>Composite_reflectivity_entire_atmosphere</th>\n",
       "      <th>Sunshine_Duration_surface</th>\n",
       "      <th>Low_cloud_cover_low_cloud</th>\n",
       "      <th>v10-1</th>\n",
       "      <th>...</th>\n",
       "      <th>tclw-1</th>\n",
       "      <th>ishf-1</th>\n",
       "      <th>str-1</th>\n",
       "      <th>mcc-1</th>\n",
       "      <th>lspf-1</th>\n",
       "      <th>pev-1</th>\n",
       "      <th>pv-1</th>\n",
       "      <th>r-1</th>\n",
       "      <th>lanneng-1</th>\n",
       "      <th>lanneng</th>\n",
       "    </tr>\n",
       "    <tr>\n",
       "      <th>time</th>\n",
       "      <th></th>\n",
       "      <th></th>\n",
       "      <th></th>\n",
       "      <th></th>\n",
       "      <th></th>\n",
       "      <th></th>\n",
       "      <th></th>\n",
       "      <th></th>\n",
       "      <th></th>\n",
       "      <th></th>\n",
       "      <th></th>\n",
       "      <th></th>\n",
       "      <th></th>\n",
       "      <th></th>\n",
       "      <th></th>\n",
       "      <th></th>\n",
       "      <th></th>\n",
       "      <th></th>\n",
       "      <th></th>\n",
       "      <th></th>\n",
       "      <th></th>\n",
       "    </tr>\n",
       "  </thead>\n",
       "  <tbody>\n",
       "    <tr>\n",
       "      <th>2021-01-25 06:00:00</th>\n",
       "      <td>34920</td>\n",
       "      <td>85.433333</td>\n",
       "      <td>282.841280</td>\n",
       "      <td>1.333333</td>\n",
       "      <td>-4.692749</td>\n",
       "      <td>16.638231</td>\n",
       "      <td>-30.000006</td>\n",
       "      <td>1242.0</td>\n",
       "      <td>0.000000</td>\n",
       "      <td>-2.027780</td>\n",
       "      <td>...</td>\n",
       "      <td>0.619607</td>\n",
       "      <td>-3.169273</td>\n",
       "      <td>11901.7500</td>\n",
       "      <td>0.814490</td>\n",
       "      <td>3600.00000</td>\n",
       "      <td>-0.000004</td>\n",
       "      <td>1.380000e-06</td>\n",
       "      <td>99.785416</td>\n",
       "      <td>0.0000</td>\n",
       "      <td>0.0000</td>\n",
       "    </tr>\n",
       "    <tr>\n",
       "      <th>2021-01-25 07:00:00</th>\n",
       "      <td>34980</td>\n",
       "      <td>83.966667</td>\n",
       "      <td>283.048040</td>\n",
       "      <td>2.666667</td>\n",
       "      <td>-5.040661</td>\n",
       "      <td>20.538728</td>\n",
       "      <td>-30.000006</td>\n",
       "      <td>2484.0</td>\n",
       "      <td>0.000000</td>\n",
       "      <td>-1.950252</td>\n",
       "      <td>...</td>\n",
       "      <td>0.673582</td>\n",
       "      <td>-2.523994</td>\n",
       "      <td>9417.5310</td>\n",
       "      <td>0.725955</td>\n",
       "      <td>3600.00000</td>\n",
       "      <td>-0.000003</td>\n",
       "      <td>1.220000e-06</td>\n",
       "      <td>99.671860</td>\n",
       "      <td>0.0000</td>\n",
       "      <td>0.0000</td>\n",
       "    </tr>\n",
       "    <tr>\n",
       "      <th>2021-01-25 08:00:00</th>\n",
       "      <td>35040</td>\n",
       "      <td>82.500000</td>\n",
       "      <td>283.254800</td>\n",
       "      <td>4.000000</td>\n",
       "      <td>-5.388574</td>\n",
       "      <td>24.439224</td>\n",
       "      <td>-30.000006</td>\n",
       "      <td>3726.0</td>\n",
       "      <td>0.000000</td>\n",
       "      <td>-1.873315</td>\n",
       "      <td>...</td>\n",
       "      <td>0.784494</td>\n",
       "      <td>-3.932709</td>\n",
       "      <td>10377.0940</td>\n",
       "      <td>0.794439</td>\n",
       "      <td>3600.00000</td>\n",
       "      <td>-0.000003</td>\n",
       "      <td>9.990000e-07</td>\n",
       "      <td>99.649440</td>\n",
       "      <td>1.6948</td>\n",
       "      <td>6.8679</td>\n",
       "    </tr>\n",
       "    <tr>\n",
       "      <th>2021-01-25 09:00:00</th>\n",
       "      <td>35100</td>\n",
       "      <td>83.233333</td>\n",
       "      <td>283.999000</td>\n",
       "      <td>52.666667</td>\n",
       "      <td>5.276424</td>\n",
       "      <td>36.708973</td>\n",
       "      <td>-30.000006</td>\n",
       "      <td>6069.0</td>\n",
       "      <td>0.000000</td>\n",
       "      <td>-2.090513</td>\n",
       "      <td>...</td>\n",
       "      <td>0.807873</td>\n",
       "      <td>-4.150825</td>\n",
       "      <td>5046.1250</td>\n",
       "      <td>0.878473</td>\n",
       "      <td>3600.00000</td>\n",
       "      <td>-0.000009</td>\n",
       "      <td>6.910000e-07</td>\n",
       "      <td>99.411125</td>\n",
       "      <td>3.5743</td>\n",
       "      <td>26.2851</td>\n",
       "    </tr>\n",
       "    <tr>\n",
       "      <th>2021-01-25 10:00:00</th>\n",
       "      <td>35160</td>\n",
       "      <td>83.966667</td>\n",
       "      <td>284.743200</td>\n",
       "      <td>101.333333</td>\n",
       "      <td>15.941422</td>\n",
       "      <td>48.978721</td>\n",
       "      <td>-30.000006</td>\n",
       "      <td>8412.0</td>\n",
       "      <td>0.000000</td>\n",
       "      <td>-2.314220</td>\n",
       "      <td>...</td>\n",
       "      <td>0.938309</td>\n",
       "      <td>-7.940720</td>\n",
       "      <td>802.6875</td>\n",
       "      <td>0.961973</td>\n",
       "      <td>3600.00000</td>\n",
       "      <td>-0.000011</td>\n",
       "      <td>4.900000e-07</td>\n",
       "      <td>99.704100</td>\n",
       "      <td>4.3169</td>\n",
       "      <td>50.6445</td>\n",
       "    </tr>\n",
       "    <tr>\n",
       "      <th>...</th>\n",
       "      <td>...</td>\n",
       "      <td>...</td>\n",
       "      <td>...</td>\n",
       "      <td>...</td>\n",
       "      <td>...</td>\n",
       "      <td>...</td>\n",
       "      <td>...</td>\n",
       "      <td>...</td>\n",
       "      <td>...</td>\n",
       "      <td>...</td>\n",
       "      <td>...</td>\n",
       "      <td>...</td>\n",
       "      <td>...</td>\n",
       "      <td>...</td>\n",
       "      <td>...</td>\n",
       "      <td>...</td>\n",
       "      <td>...</td>\n",
       "      <td>...</td>\n",
       "      <td>...</td>\n",
       "      <td>...</td>\n",
       "      <td>...</td>\n",
       "    </tr>\n",
       "    <tr>\n",
       "      <th>2021-12-31 13:00:00</th>\n",
       "      <td>524940</td>\n",
       "      <td>44.666667</td>\n",
       "      <td>282.382013</td>\n",
       "      <td>483.086667</td>\n",
       "      <td>52.877959</td>\n",
       "      <td>127.679718</td>\n",
       "      <td>-30.000006</td>\n",
       "      <td>18000.0</td>\n",
       "      <td>0.000000</td>\n",
       "      <td>-0.017962</td>\n",
       "      <td>...</td>\n",
       "      <td>0.246591</td>\n",
       "      <td>-31.797920</td>\n",
       "      <td>-125903.7200</td>\n",
       "      <td>0.960508</td>\n",
       "      <td>306.03820</td>\n",
       "      <td>-0.000063</td>\n",
       "      <td>-3.560000e-09</td>\n",
       "      <td>69.448490</td>\n",
       "      <td>6.1076</td>\n",
       "      <td>70.4134</td>\n",
       "    </tr>\n",
       "    <tr>\n",
       "      <th>2021-12-31 14:00:00</th>\n",
       "      <td>525000</td>\n",
       "      <td>47.300000</td>\n",
       "      <td>282.505300</td>\n",
       "      <td>512.980000</td>\n",
       "      <td>30.329239</td>\n",
       "      <td>31.819242</td>\n",
       "      <td>-30.000006</td>\n",
       "      <td>21600.0</td>\n",
       "      <td>0.000000</td>\n",
       "      <td>-0.191365</td>\n",
       "      <td>...</td>\n",
       "      <td>0.203071</td>\n",
       "      <td>-20.900856</td>\n",
       "      <td>-159883.3000</td>\n",
       "      <td>0.947019</td>\n",
       "      <td>441.39600</td>\n",
       "      <td>-0.000077</td>\n",
       "      <td>-3.080000e-08</td>\n",
       "      <td>70.761990</td>\n",
       "      <td>5.4254</td>\n",
       "      <td>60.3868</td>\n",
       "    </tr>\n",
       "    <tr>\n",
       "      <th>2021-12-31 15:00:00</th>\n",
       "      <td>525060</td>\n",
       "      <td>51.600000</td>\n",
       "      <td>281.751800</td>\n",
       "      <td>423.913333</td>\n",
       "      <td>46.533569</td>\n",
       "      <td>43.997975</td>\n",
       "      <td>-30.000006</td>\n",
       "      <td>18000.0</td>\n",
       "      <td>1.466667</td>\n",
       "      <td>-0.222731</td>\n",
       "      <td>...</td>\n",
       "      <td>0.213650</td>\n",
       "      <td>-11.730606</td>\n",
       "      <td>-99216.9100</td>\n",
       "      <td>0.913509</td>\n",
       "      <td>819.17810</td>\n",
       "      <td>-0.000042</td>\n",
       "      <td>-1.830000e-08</td>\n",
       "      <td>71.825980</td>\n",
       "      <td>3.2510</td>\n",
       "      <td>39.8576</td>\n",
       "    </tr>\n",
       "    <tr>\n",
       "      <th>2021-12-31 16:00:00</th>\n",
       "      <td>525120</td>\n",
       "      <td>55.900000</td>\n",
       "      <td>280.998300</td>\n",
       "      <td>334.846667</td>\n",
       "      <td>62.737900</td>\n",
       "      <td>56.176707</td>\n",
       "      <td>-30.000006</td>\n",
       "      <td>14400.0</td>\n",
       "      <td>2.933333</td>\n",
       "      <td>-0.352932</td>\n",
       "      <td>...</td>\n",
       "      <td>0.225124</td>\n",
       "      <td>-9.249451</td>\n",
       "      <td>-125530.5500</td>\n",
       "      <td>0.860528</td>\n",
       "      <td>550.82480</td>\n",
       "      <td>-0.000031</td>\n",
       "      <td>-2.150000e-08</td>\n",
       "      <td>72.027850</td>\n",
       "      <td>1.8298</td>\n",
       "      <td>6.4238</td>\n",
       "    </tr>\n",
       "    <tr>\n",
       "      <th>2021-12-31 17:00:00</th>\n",
       "      <td>525180</td>\n",
       "      <td>60.200000</td>\n",
       "      <td>280.244800</td>\n",
       "      <td>245.780000</td>\n",
       "      <td>78.942230</td>\n",
       "      <td>68.355440</td>\n",
       "      <td>-30.000006</td>\n",
       "      <td>10800.0</td>\n",
       "      <td>4.400000</td>\n",
       "      <td>-0.515090</td>\n",
       "      <td>...</td>\n",
       "      <td>0.222841</td>\n",
       "      <td>-4.777931</td>\n",
       "      <td>-83767.7660</td>\n",
       "      <td>0.886958</td>\n",
       "      <td>268.79285</td>\n",
       "      <td>-0.000013</td>\n",
       "      <td>-3.770000e-08</td>\n",
       "      <td>70.233505</td>\n",
       "      <td>0.0000</td>\n",
       "      <td>0.0000</td>\n",
       "    </tr>\n",
       "  </tbody>\n",
       "</table>\n",
       "<p>924 rows × 22 columns</p>\n",
       "</div>"
      ],
      "text/plain": [
       "                     minutes  Relative_humidity_isobaric  \\\n",
       "time                                                       \n",
       "2021-01-25 06:00:00    34920                   85.433333   \n",
       "2021-01-25 07:00:00    34980                   83.966667   \n",
       "2021-01-25 08:00:00    35040                   82.500000   \n",
       "2021-01-25 09:00:00    35100                   83.233333   \n",
       "2021-01-25 10:00:00    35160                   83.966667   \n",
       "...                      ...                         ...   \n",
       "2021-12-31 13:00:00   524940                   44.666667   \n",
       "2021-12-31 14:00:00   525000                   47.300000   \n",
       "2021-12-31 15:00:00   525060                   51.600000   \n",
       "2021-12-31 16:00:00   525120                   55.900000   \n",
       "2021-12-31 17:00:00   525180                   60.200000   \n",
       "\n",
       "                     Temperature_height_above_ground  \\\n",
       "time                                                   \n",
       "2021-01-25 06:00:00                       282.841280   \n",
       "2021-01-25 07:00:00                       283.048040   \n",
       "2021-01-25 08:00:00                       283.254800   \n",
       "2021-01-25 09:00:00                       283.999000   \n",
       "2021-01-25 10:00:00                       284.743200   \n",
       "...                                              ...   \n",
       "2021-12-31 13:00:00                       282.382013   \n",
       "2021-12-31 14:00:00                       282.505300   \n",
       "2021-12-31 15:00:00                       281.751800   \n",
       "2021-12-31 16:00:00                       280.998300   \n",
       "2021-12-31 17:00:00                       280.244800   \n",
       "\n",
       "                     Downward_Short-Wave_Radiation_Flux_surface_3_Hour_Average  \\\n",
       "time                                                                             \n",
       "2021-01-25 06:00:00                                           1.333333           \n",
       "2021-01-25 07:00:00                                           2.666667           \n",
       "2021-01-25 08:00:00                                           4.000000           \n",
       "2021-01-25 09:00:00                                          52.666667           \n",
       "2021-01-25 10:00:00                                         101.333333           \n",
       "...                                                                ...           \n",
       "2021-12-31 13:00:00                                         483.086667           \n",
       "2021-12-31 14:00:00                                         512.980000           \n",
       "2021-12-31 15:00:00                                         423.913333           \n",
       "2021-12-31 16:00:00                                         334.846667           \n",
       "2021-12-31 17:00:00                                         245.780000           \n",
       "\n",
       "                     Sensible_heat_net_flux_surface_3_Hour_Average  \\\n",
       "time                                                                 \n",
       "2021-01-25 06:00:00                                      -4.692749   \n",
       "2021-01-25 07:00:00                                      -5.040661   \n",
       "2021-01-25 08:00:00                                      -5.388574   \n",
       "2021-01-25 09:00:00                                       5.276424   \n",
       "2021-01-25 10:00:00                                      15.941422   \n",
       "...                                                            ...   \n",
       "2021-12-31 13:00:00                                      52.877959   \n",
       "2021-12-31 14:00:00                                      30.329239   \n",
       "2021-12-31 15:00:00                                      46.533569   \n",
       "2021-12-31 16:00:00                                      62.737900   \n",
       "2021-12-31 17:00:00                                      78.942230   \n",
       "\n",
       "                     Potential_Evaporation_Rate_surface  \\\n",
       "time                                                      \n",
       "2021-01-25 06:00:00                           16.638231   \n",
       "2021-01-25 07:00:00                           20.538728   \n",
       "2021-01-25 08:00:00                           24.439224   \n",
       "2021-01-25 09:00:00                           36.708973   \n",
       "2021-01-25 10:00:00                           48.978721   \n",
       "...                                                 ...   \n",
       "2021-12-31 13:00:00                          127.679718   \n",
       "2021-12-31 14:00:00                           31.819242   \n",
       "2021-12-31 15:00:00                           43.997975   \n",
       "2021-12-31 16:00:00                           56.176707   \n",
       "2021-12-31 17:00:00                           68.355440   \n",
       "\n",
       "                     Composite_reflectivity_entire_atmosphere  \\\n",
       "time                                                            \n",
       "2021-01-25 06:00:00                                -30.000006   \n",
       "2021-01-25 07:00:00                                -30.000006   \n",
       "2021-01-25 08:00:00                                -30.000006   \n",
       "2021-01-25 09:00:00                                -30.000006   \n",
       "2021-01-25 10:00:00                                -30.000006   \n",
       "...                                                       ...   \n",
       "2021-12-31 13:00:00                                -30.000006   \n",
       "2021-12-31 14:00:00                                -30.000006   \n",
       "2021-12-31 15:00:00                                -30.000006   \n",
       "2021-12-31 16:00:00                                -30.000006   \n",
       "2021-12-31 17:00:00                                -30.000006   \n",
       "\n",
       "                     Sunshine_Duration_surface  Low_cloud_cover_low_cloud  \\\n",
       "time                                                                        \n",
       "2021-01-25 06:00:00                     1242.0                   0.000000   \n",
       "2021-01-25 07:00:00                     2484.0                   0.000000   \n",
       "2021-01-25 08:00:00                     3726.0                   0.000000   \n",
       "2021-01-25 09:00:00                     6069.0                   0.000000   \n",
       "2021-01-25 10:00:00                     8412.0                   0.000000   \n",
       "...                                        ...                        ...   \n",
       "2021-12-31 13:00:00                    18000.0                   0.000000   \n",
       "2021-12-31 14:00:00                    21600.0                   0.000000   \n",
       "2021-12-31 15:00:00                    18000.0                   1.466667   \n",
       "2021-12-31 16:00:00                    14400.0                   2.933333   \n",
       "2021-12-31 17:00:00                    10800.0                   4.400000   \n",
       "\n",
       "                        v10-1  ...    tclw-1     ishf-1        str-1  \\\n",
       "time                           ...                                     \n",
       "2021-01-25 06:00:00 -2.027780  ...  0.619607  -3.169273   11901.7500   \n",
       "2021-01-25 07:00:00 -1.950252  ...  0.673582  -2.523994    9417.5310   \n",
       "2021-01-25 08:00:00 -1.873315  ...  0.784494  -3.932709   10377.0940   \n",
       "2021-01-25 09:00:00 -2.090513  ...  0.807873  -4.150825    5046.1250   \n",
       "2021-01-25 10:00:00 -2.314220  ...  0.938309  -7.940720     802.6875   \n",
       "...                       ...  ...       ...        ...          ...   \n",
       "2021-12-31 13:00:00 -0.017962  ...  0.246591 -31.797920 -125903.7200   \n",
       "2021-12-31 14:00:00 -0.191365  ...  0.203071 -20.900856 -159883.3000   \n",
       "2021-12-31 15:00:00 -0.222731  ...  0.213650 -11.730606  -99216.9100   \n",
       "2021-12-31 16:00:00 -0.352932  ...  0.225124  -9.249451 -125530.5500   \n",
       "2021-12-31 17:00:00 -0.515090  ...  0.222841  -4.777931  -83767.7660   \n",
       "\n",
       "                        mcc-1      lspf-1     pev-1          pv-1        r-1  \\\n",
       "time                                                                           \n",
       "2021-01-25 06:00:00  0.814490  3600.00000 -0.000004  1.380000e-06  99.785416   \n",
       "2021-01-25 07:00:00  0.725955  3600.00000 -0.000003  1.220000e-06  99.671860   \n",
       "2021-01-25 08:00:00  0.794439  3600.00000 -0.000003  9.990000e-07  99.649440   \n",
       "2021-01-25 09:00:00  0.878473  3600.00000 -0.000009  6.910000e-07  99.411125   \n",
       "2021-01-25 10:00:00  0.961973  3600.00000 -0.000011  4.900000e-07  99.704100   \n",
       "...                       ...         ...       ...           ...        ...   \n",
       "2021-12-31 13:00:00  0.960508   306.03820 -0.000063 -3.560000e-09  69.448490   \n",
       "2021-12-31 14:00:00  0.947019   441.39600 -0.000077 -3.080000e-08  70.761990   \n",
       "2021-12-31 15:00:00  0.913509   819.17810 -0.000042 -1.830000e-08  71.825980   \n",
       "2021-12-31 16:00:00  0.860528   550.82480 -0.000031 -2.150000e-08  72.027850   \n",
       "2021-12-31 17:00:00  0.886958   268.79285 -0.000013 -3.770000e-08  70.233505   \n",
       "\n",
       "                     lanneng-1  lanneng  \n",
       "time                                     \n",
       "2021-01-25 06:00:00     0.0000   0.0000  \n",
       "2021-01-25 07:00:00     0.0000   0.0000  \n",
       "2021-01-25 08:00:00     1.6948   6.8679  \n",
       "2021-01-25 09:00:00     3.5743  26.2851  \n",
       "2021-01-25 10:00:00     4.3169  50.6445  \n",
       "...                        ...      ...  \n",
       "2021-12-31 13:00:00     6.1076  70.4134  \n",
       "2021-12-31 14:00:00     5.4254  60.3868  \n",
       "2021-12-31 15:00:00     3.2510  39.8576  \n",
       "2021-12-31 16:00:00     1.8298   6.4238  \n",
       "2021-12-31 17:00:00     0.0000   0.0000  \n",
       "\n",
       "[924 rows x 22 columns]"
      ]
     },
     "execution_count": 18,
     "metadata": {},
     "output_type": "execute_result"
    }
   ],
   "source": [
    "df_for_testing"
   ]
  },
  {
   "cell_type": "code",
   "execution_count": 21,
   "metadata": {},
   "outputs": [
    {
     "name": "stdout",
     "output_type": "stream",
     "text": [
      "time\n",
      "2021-01-25 06:00:00     0.0000\n",
      "2021-01-25 07:00:00     0.0000\n",
      "2021-01-25 08:00:00     6.8679\n",
      "2021-01-25 09:00:00    26.2851\n",
      "2021-01-25 10:00:00    50.6445\n",
      "2021-01-25 11:00:00    47.2727\n",
      "2021-01-25 12:00:00    24.0822\n",
      "2021-01-25 13:00:00    34.7022\n",
      "2021-01-25 14:00:00    23.8975\n",
      "2021-01-25 15:00:00    15.1216\n",
      "Name: lanneng, dtype: float64\n"
     ]
    }
   ],
   "source": [
    "print(df_for_testing['lanneng'].head(10))"
   ]
  },
  {
   "cell_type": "code",
   "execution_count": 22,
   "metadata": {
    "scrolled": true
   },
   "outputs": [],
   "source": [
    "scaler = MinMaxScaler(feature_range=(0,1))\n",
    "df_for_training_scaled = scaler.fit_transform(df_for_training)"
   ]
  },
  {
   "cell_type": "code",
   "execution_count": 23,
   "metadata": {},
   "outputs": [],
   "source": [
    "df_for_testing_scaled=scaler.transform(df_for_testing)"
   ]
  },
  {
   "cell_type": "code",
   "execution_count": 24,
   "metadata": {},
   "outputs": [
    {
     "data": {
      "text/plain": [
       "(3408, 22)"
      ]
     },
     "execution_count": 24,
     "metadata": {},
     "output_type": "execute_result"
    }
   ],
   "source": [
    "df_for_training_scaled.shape"
   ]
  },
  {
   "cell_type": "code",
   "execution_count": 25,
   "metadata": {
    "scrolled": true
   },
   "outputs": [
    {
     "data": {
      "text/plain": [
       "(924, 22)"
      ]
     },
     "execution_count": 25,
     "metadata": {},
     "output_type": "execute_result"
    }
   ],
   "source": [
    "df_for_testing_scaled.shape"
   ]
  },
  {
   "cell_type": "code",
   "execution_count": 26,
   "metadata": {},
   "outputs": [],
   "source": [
    "def createXY(dataset,n_past):\n",
    "    dataX = []\n",
    "    dataY = []\n",
    "    for i in range(n_past, len(dataset)):\n",
    "            dataX.append(dataset[i - n_past:i, 0:dataset.shape[1]])\n",
    "            dataY.append(dataset[i,53])\n",
    "    return np.array(dataX),np.array(dataY)        "
   ]
  },
  {
   "cell_type": "markdown",
   "metadata": {},
   "source": [
    "确定时间步长timestep，即用几行数据去预测下一个数据（dense=1所以是预测一个）"
   ]
  },
  {
   "cell_type": "code",
   "execution_count": 27,
   "metadata": {},
   "outputs": [],
   "source": []
  },
  {
   "cell_type": "code",
   "execution_count": 28,
   "metadata": {},
   "outputs": [],
   "source": [
    "# ------关键！！选择输入输出，即时间步长和预测步长！！！------\n",
    "\n",
    "# choose a number of time steps\n",
    "n_steps_in, n_steps_out = 36, 36\n",
    "# covert into input/output\n",
    "trainX,trainY = split_sequences(df_for_training_scaled, n_steps_in, n_steps_out)\n",
    "testX,testY = split_sequences(df_for_testing_scaled, n_steps_in, n_steps_out)\n",
    "# the dataset knows the number of features, e.g. 2\n",
    "n_features = trainX.shape[2]"
   ]
  },
  {
   "cell_type": "code",
   "execution_count": 29,
   "metadata": {
    "scrolled": true
   },
   "outputs": [
    {
     "name": "stdout",
     "output_type": "stream",
     "text": [
      "(3338, 36, 21)\n"
     ]
    }
   ],
   "source": [
    "print(trainX.shape)"
   ]
  },
  {
   "cell_type": "code",
   "execution_count": 30,
   "metadata": {},
   "outputs": [
    {
     "name": "stdout",
     "output_type": "stream",
     "text": [
      "[[[0.00000000e+00 8.34775443e-01 3.30294287e-01 ... 2.21687587e-01\n",
      "   3.37925571e-01 0.00000000e+00]\n",
      "  [1.17882824e-04 8.50020602e-01 3.28280266e-01 ... 2.22454672e-01\n",
      "   3.84945949e-01 5.66608672e-03]\n",
      "  [2.35765649e-04 8.65265760e-01 3.26266247e-01 ... 2.21199442e-01\n",
      "   4.19548815e-01 6.40472548e-02]\n",
      "  ...\n",
      "  [6.71932099e-03 1.37618459e-01 7.31555528e-02 ... 2.25174338e-01\n",
      "   7.62230724e-01 2.59806590e-01]\n",
      "  [6.83720382e-03 1.55335806e-01 5.58241110e-02 ... 2.30195258e-01\n",
      "   7.71250905e-01 1.22098150e-02]\n",
      "  [6.95508664e-03 1.73053152e-01 3.84926667e-02 ... 2.39679219e-01\n",
      "   7.75276826e-01 0.00000000e+00]]\n",
      "\n",
      " [[1.17882824e-04 8.50020602e-01 3.28280266e-01 ... 2.22454672e-01\n",
      "   3.84945949e-01 5.66608672e-03]\n",
      "  [2.35765649e-04 8.65265760e-01 3.26266247e-01 ... 2.21199442e-01\n",
      "   4.19548815e-01 6.40472548e-02]\n",
      "  [3.53648473e-04 8.23650597e-01 3.33300090e-01 ... 2.20781032e-01\n",
      "   4.34667365e-01 4.82361257e-01]\n",
      "  ...\n",
      "  [6.83720382e-03 1.55335806e-01 5.58241110e-02 ... 2.30195258e-01\n",
      "   7.71250905e-01 1.22098150e-02]\n",
      "  [6.95508664e-03 1.73053152e-01 3.84926667e-02 ... 2.39679219e-01\n",
      "   7.75276826e-01 0.00000000e+00]\n",
      "  [8.48756336e-03 2.87185826e-01 0.00000000e+00 ... 2.52231520e-01\n",
      "   7.83515647e-01 0.00000000e+00]]\n",
      "\n",
      " [[2.35765649e-04 8.65265760e-01 3.26266247e-01 ... 2.21199442e-01\n",
      "   4.19548815e-01 6.40472548e-02]\n",
      "  [3.53648473e-04 8.23650597e-01 3.33300090e-01 ... 2.20781032e-01\n",
      "   4.34667365e-01 4.82361257e-01]\n",
      "  [4.71531298e-04 7.82035435e-01 3.40333931e-01 ... 2.12518131e-01\n",
      "   4.04175439e-01 6.72381454e-01]\n",
      "  ...\n",
      "  [6.95508664e-03 1.73053152e-01 3.84926667e-02 ... 2.39679219e-01\n",
      "   7.75276826e-01 0.00000000e+00]\n",
      "  [8.48756336e-03 2.87185826e-01 0.00000000e+00 ... 2.52231520e-01\n",
      "   7.83515647e-01 0.00000000e+00]\n",
      "  [8.60544619e-03 2.70292542e-01 5.95779356e-03 ... 2.49232915e-01\n",
      "   7.87558533e-01 0.00000000e+00]]\n",
      "\n",
      " ...\n",
      "\n",
      " [[9.83024873e-01 2.23733004e-01 2.21155697e-01 ... 3.33333333e-01\n",
      "   8.37076163e-01 0.00000000e+00]\n",
      "  [9.84557350e-01 2.27029254e-01 1.85122230e-01 ... 1.33193863e-01\n",
      "   9.58143654e-01 0.00000000e+00]\n",
      "  [9.84675233e-01 2.35269880e-01 1.98380599e-01 ... 1.75034868e-01\n",
      "   9.80736520e-01 0.00000000e+00]\n",
      "  ...\n",
      "  [9.91158788e-01 3.99258344e-01 4.92217185e-01 ... 2.07691771e-01\n",
      "   2.94234579e-01 6.32352563e-01]\n",
      "  [9.91276671e-01 4.17387722e-01 4.70379252e-01 ... 2.07726639e-01\n",
      "   2.85231362e-01 3.36099670e-01]\n",
      "  [9.91394554e-01 4.35517099e-01 4.48541319e-01 ... 2.08368201e-01\n",
      "   2.88730713e-01 4.82548515e-02]]\n",
      "\n",
      " [[9.84557350e-01 2.27029254e-01 1.85122230e-01 ... 1.33193863e-01\n",
      "   9.58143654e-01 0.00000000e+00]\n",
      "  [9.84675233e-01 2.35269880e-01 1.98380599e-01 ... 1.75034868e-01\n",
      "   9.80736520e-01 0.00000000e+00]\n",
      "  [9.84793116e-01 2.43510507e-01 2.11638971e-01 ... 1.86750349e-01\n",
      "   9.82282336e-01 2.37981815e-02]\n",
      "  ...\n",
      "  [9.91276671e-01 4.17387722e-01 4.70379252e-01 ... 2.07726639e-01\n",
      "   2.85231362e-01 3.36099670e-01]\n",
      "  [9.91394554e-01 4.35517099e-01 4.48541319e-01 ... 2.08368201e-01\n",
      "   2.88730713e-01 4.82548515e-02]\n",
      "  [9.91512437e-01 4.53646477e-01 4.26703386e-01 ... 2.07984658e-01\n",
      "   3.05649894e-01 0.00000000e+00]]\n",
      "\n",
      " [[9.84675233e-01 2.35269880e-01 1.98380599e-01 ... 1.75034868e-01\n",
      "   9.80736520e-01 0.00000000e+00]\n",
      "  [9.84793116e-01 2.43510507e-01 2.11638971e-01 ... 1.86750349e-01\n",
      "   9.82282336e-01 2.37981815e-02]\n",
      "  [9.84910998e-01 2.23733004e-01 2.55436161e-01 ... 1.94839609e-01\n",
      "   9.82978872e-01 3.80554838e-02]\n",
      "  ...\n",
      "  [9.91394554e-01 4.35517099e-01 4.48541319e-01 ... 2.08368201e-01\n",
      "   2.88730713e-01 4.82548515e-02]\n",
      "  [9.91512437e-01 4.53646477e-01 4.26703386e-01 ... 2.07984658e-01\n",
      "   3.05649894e-01 0.00000000e+00]\n",
      "  [9.93044913e-01 4.76720231e-01 3.31613147e-01 ... 2.04532775e-01\n",
      "   4.19922554e-01 0.00000000e+00]]]\n"
     ]
    }
   ],
   "source": [
    "print(trainX)"
   ]
  },
  {
   "cell_type": "code",
   "execution_count": 32,
   "metadata": {},
   "outputs": [
    {
     "name": "stdout",
     "output_type": "stream",
     "text": [
      "(3338, 36)\n"
     ]
    }
   ],
   "source": [
    "print(trainY.shape)"
   ]
  },
  {
   "cell_type": "code",
   "execution_count": 33,
   "metadata": {},
   "outputs": [
    {
     "name": "stdout",
     "output_type": "stream",
     "text": [
      "[[0.         0.         0.01366038 0.03196024 0.05665131 0.08630981\n",
      "  0.05274277 0.03437095 0.04788535 0.04266197 0.00124185 0.\n",
      "  0.         0.         0.06629418 0.07714189 0.0948568  0.09514978\n",
      "  0.18737689 0.14266916 0.10314884 0.09843638 0.04237001 0.\n",
      "  0.         0.         0.05332771 0.17408146 0.09861936 0.10672842\n",
      "  0.21864321 0.18584308 0.1746294  0.16403664 0.06139976 0.        ]\n",
      " [0.         0.01366038 0.03196024 0.05665131 0.08630981 0.05274277\n",
      "  0.03437095 0.04788535 0.04266197 0.00124185 0.         0.\n",
      "  0.         0.06629418 0.07714189 0.0948568  0.09514978 0.18737689\n",
      "  0.14266916 0.10314884 0.09843638 0.04237001 0.         0.\n",
      "  0.         0.05332771 0.17408146 0.09861936 0.10672842 0.21864321\n",
      "  0.18584308 0.1746294  0.16403664 0.06139976 0.         0.        ]\n",
      " [0.01366038 0.03196024 0.05665131 0.08630981 0.05274277 0.03437095\n",
      "  0.04788535 0.04266197 0.00124185 0.         0.         0.\n",
      "  0.06629418 0.07714189 0.0948568  0.09514978 0.18737689 0.14266916\n",
      "  0.10314884 0.09843638 0.04237001 0.         0.         0.\n",
      "  0.05332771 0.17408146 0.09861936 0.10672842 0.21864321 0.18584308\n",
      "  0.1746294  0.16403664 0.06139976 0.         0.         0.        ]\n",
      " [0.03196024 0.05665131 0.08630981 0.05274277 0.03437095 0.04788535\n",
      "  0.04266197 0.00124185 0.         0.         0.         0.06629418\n",
      "  0.07714189 0.0948568  0.09514978 0.18737689 0.14266916 0.10314884\n",
      "  0.09843638 0.04237001 0.         0.         0.         0.05332771\n",
      "  0.17408146 0.09861936 0.10672842 0.21864321 0.18584308 0.1746294\n",
      "  0.16403664 0.06139976 0.         0.         0.         0.11344861]\n",
      " [0.05665131 0.08630981 0.05274277 0.03437095 0.04788535 0.04266197\n",
      "  0.00124185 0.         0.         0.         0.06629418 0.07714189\n",
      "  0.0948568  0.09514978 0.18737689 0.14266916 0.10314884 0.09843638\n",
      "  0.04237001 0.         0.         0.         0.05332771 0.17408146\n",
      "  0.09861936 0.10672842 0.21864321 0.18584308 0.1746294  0.16403664\n",
      "  0.06139976 0.         0.         0.         0.11344861 0.54207805]\n",
      " [0.08630981 0.05274277 0.03437095 0.04788535 0.04266197 0.00124185\n",
      "  0.         0.         0.         0.06629418 0.07714189 0.0948568\n",
      "  0.09514978 0.18737689 0.14266916 0.10314884 0.09843638 0.04237001\n",
      "  0.         0.         0.         0.05332771 0.17408146 0.09861936\n",
      "  0.10672842 0.21864321 0.18584308 0.1746294  0.16403664 0.06139976\n",
      "  0.         0.         0.         0.11344861 0.54207805 0.59120526]\n",
      " [0.05274277 0.03437095 0.04788535 0.04266197 0.00124185 0.\n",
      "  0.         0.         0.06629418 0.07714189 0.0948568  0.09514978\n",
      "  0.18737689 0.14266916 0.10314884 0.09843638 0.04237001 0.\n",
      "  0.         0.         0.05332771 0.17408146 0.09861936 0.10672842\n",
      "  0.21864321 0.18584308 0.1746294  0.16403664 0.06139976 0.\n",
      "  0.         0.         0.11344861 0.54207805 0.59120526 0.89119086]\n",
      " [0.03437095 0.04788535 0.04266197 0.00124185 0.         0.\n",
      "  0.         0.06629418 0.07714189 0.0948568  0.09514978 0.18737689\n",
      "  0.14266916 0.10314884 0.09843638 0.04237001 0.         0.\n",
      "  0.         0.05332771 0.17408146 0.09861936 0.10672842 0.21864321\n",
      "  0.18584308 0.1746294  0.16403664 0.06139976 0.         0.\n",
      "  0.         0.11344861 0.54207805 0.59120526 0.89119086 0.70962128]\n",
      " [0.04788535 0.04266197 0.00124185 0.         0.         0.\n",
      "  0.06629418 0.07714189 0.0948568  0.09514978 0.18737689 0.14266916\n",
      "  0.10314884 0.09843638 0.04237001 0.         0.         0.\n",
      "  0.05332771 0.17408146 0.09861936 0.10672842 0.21864321 0.18584308\n",
      "  0.1746294  0.16403664 0.06139976 0.         0.         0.\n",
      "  0.11344861 0.54207805 0.59120526 0.89119086 0.70962128 0.67225569]\n",
      " [0.04266197 0.00124185 0.         0.         0.         0.06629418\n",
      "  0.07714189 0.0948568  0.09514978 0.18737689 0.14266916 0.10314884\n",
      "  0.09843638 0.04237001 0.         0.         0.         0.05332771\n",
      "  0.17408146 0.09861936 0.10672842 0.21864321 0.18584308 0.1746294\n",
      "  0.16403664 0.06139976 0.         0.         0.         0.11344861\n",
      "  0.54207805 0.59120526 0.89119086 0.70962128 0.67225569 0.73084277]]\n"
     ]
    }
   ],
   "source": [
    "print(trainY[0:10,:])"
   ]
  },
  {
   "cell_type": "code",
   "execution_count": 34,
   "metadata": {},
   "outputs": [
    {
     "name": "stdout",
     "output_type": "stream",
     "text": [
      "(854, 36)\n"
     ]
    },
    {
     "data": {
      "text/plain": [
       "array([[0.        , 0.        , 0.07060366, ..., 0.2449781 , 0.2449781 ,\n",
       "        0.0428686 ],\n",
       "       [0.        , 0.07060366, 0.27021712, ..., 0.2449781 , 0.0428686 ,\n",
       "        0.        ],\n",
       "       [0.07060366, 0.27021712, 0.52063758, ..., 0.0428686 , 0.        ,\n",
       "        0.        ],\n",
       "       ...,\n",
       "       [0.        , 0.        , 0.0059903 , ..., 0.05577441, 0.03342106,\n",
       "        0.01881078],\n",
       "       [0.        , 0.0059903 , 0.07169953, ..., 0.03342106, 0.01881078,\n",
       "        0.        ],\n",
       "       [0.0059903 , 0.07169953, 0.44152291, ..., 0.01881078, 0.        ,\n",
       "        0.        ]])"
      ]
     },
     "execution_count": 34,
     "metadata": {},
     "output_type": "execute_result"
    }
   ],
   "source": [
    "print(testY.shape)\n",
    "testY"
   ]
  },
  {
   "cell_type": "code",
   "execution_count": 35,
   "metadata": {},
   "outputs": [],
   "source": [
    "from tensorflow.keras.wrappers.scikit_learn import KerasRegressor\n",
    "from sklearn.model_selection import GridSearchCV"
   ]
  },
  {
   "cell_type": "markdown",
   "metadata": {},
   "source": [
    "构造模型，input_size的第一个参数是timestep，与前面对应一致"
   ]
  },
  {
   "cell_type": "code",
   "execution_count": 37,
   "metadata": {
    "scrolled": true
   },
   "outputs": [
    {
     "name": "stdout",
     "output_type": "stream",
     "text": [
      "Train on 3338 samples, validate on 854 samples\n",
      "Epoch 1/800\n",
      "3338/3338 [==============================] - 6s 2ms/sample - loss: 0.0896 - accuracy: 0.0249 - val_loss: 0.0805 - val_accuracy: 0.0304\n",
      "Epoch 2/800\n",
      "3338/3338 [==============================] - 3s 870us/sample - loss: 0.0803 - accuracy: 0.0321 - val_loss: 0.0793 - val_accuracy: 0.0445\n",
      "Epoch 3/800\n",
      "3338/3338 [==============================] - 3s 928us/sample - loss: 0.0723 - accuracy: 0.0386 - val_loss: 0.0727 - val_accuracy: 0.0515\n",
      "Epoch 4/800\n",
      "3338/3338 [==============================] - 3s 900us/sample - loss: 0.0738 - accuracy: 0.0434 - val_loss: 0.0716 - val_accuracy: 0.0726\n",
      "Epoch 5/800\n",
      "3338/3338 [==============================] - 3s 885us/sample - loss: 0.0699 - accuracy: 0.0515 - val_loss: 0.0685 - val_accuracy: 0.0691\n",
      "Epoch 6/800\n",
      "3338/3338 [==============================] - 3s 879us/sample - loss: 0.0651 - accuracy: 0.0674 - val_loss: 0.0576 - val_accuracy: 0.0913\n",
      "Epoch 7/800\n",
      "3338/3338 [==============================] - 3s 867us/sample - loss: 0.0475 - accuracy: 0.1147 - val_loss: 0.0382 - val_accuracy: 0.1956\n",
      "Epoch 8/800\n",
      "3338/3338 [==============================] - 3s 878us/sample - loss: 0.0389 - accuracy: 0.1747 - val_loss: 0.0340 - val_accuracy: 0.2412\n",
      "Epoch 9/800\n",
      "3338/3338 [==============================] - 3s 865us/sample - loss: 0.0340 - accuracy: 0.1902 - val_loss: 0.0303 - val_accuracy: 0.2658\n",
      "Epoch 10/800\n",
      "3338/3338 [==============================] - 3s 859us/sample - loss: 0.0302 - accuracy: 0.1962 - val_loss: 0.0314 - val_accuracy: 0.3349\n",
      "Epoch 11/800\n",
      "3338/3338 [==============================] - 3s 852us/sample - loss: 0.0296 - accuracy: 0.2313 - val_loss: 0.0304 - val_accuracy: 0.3630\n",
      "Epoch 12/800\n",
      "3338/3338 [==============================] - 3s 839us/sample - loss: 0.0273 - accuracy: 0.2229 - val_loss: 0.0315 - val_accuracy: 0.3021\n",
      "Epoch 13/800\n",
      "3338/3338 [==============================] - 3s 853us/sample - loss: 0.0262 - accuracy: 0.2283 - val_loss: 0.0336 - val_accuracy: 0.2131\n",
      "Epoch 14/800\n",
      "3338/3338 [==============================] - 3s 861us/sample - loss: 0.0263 - accuracy: 0.2088 - val_loss: 0.0358 - val_accuracy: 0.1768\n",
      "Epoch 15/800\n",
      "3338/3338 [==============================] - 3s 853us/sample - loss: 0.0273 - accuracy: 0.2265 - val_loss: 0.0422 - val_accuracy: 0.1358\n",
      "Epoch 16/800\n",
      "3338/3338 [==============================] - 3s 844us/sample - loss: 0.0273 - accuracy: 0.2058 - val_loss: 0.0470 - val_accuracy: 0.1405\n",
      "Epoch 17/800\n",
      "3338/3338 [==============================] - 3s 851us/sample - loss: 0.0264 - accuracy: 0.2166 - val_loss: 0.0295 - val_accuracy: 0.2002\n",
      "Epoch 18/800\n",
      "3338/3338 [==============================] - 3s 839us/sample - loss: 0.0280 - accuracy: 0.1893 - val_loss: 0.0255 - val_accuracy: 0.2717\n",
      "Epoch 19/800\n",
      "3338/3338 [==============================] - 3s 859us/sample - loss: 0.0280 - accuracy: 0.1956 - val_loss: 0.0271 - val_accuracy: 0.2447\n",
      "Epoch 20/800\n",
      "3338/3338 [==============================] - 3s 855us/sample - loss: 0.0272 - accuracy: 0.1923 - val_loss: 0.0298 - val_accuracy: 0.1991\n",
      "Epoch 21/800\n",
      "3338/3338 [==============================] - 3s 856us/sample - loss: 0.0243 - accuracy: 0.2040 - val_loss: 0.0230 - val_accuracy: 0.2845\n",
      "Epoch 22/800\n",
      "3338/3338 [==============================] - 3s 845us/sample - loss: 0.0223 - accuracy: 0.2025 - val_loss: 0.0219 - val_accuracy: 0.3255\n",
      "Epoch 23/800\n",
      "3338/3338 [==============================] - 3s 852us/sample - loss: 0.0214 - accuracy: 0.2214 - val_loss: 0.0242 - val_accuracy: 0.3314\n",
      "Epoch 24/800\n",
      "3338/3338 [==============================] - 3s 859us/sample - loss: 0.0226 - accuracy: 0.2253 - val_loss: 0.0271 - val_accuracy: 0.3033\n",
      "Epoch 25/800\n",
      "3338/3338 [==============================] - 3s 852us/sample - loss: 0.0229 - accuracy: 0.2406 - val_loss: 0.0226 - val_accuracy: 0.3267\n",
      "Epoch 26/800\n",
      "3338/3338 [==============================] - 3s 848us/sample - loss: 0.0228 - accuracy: 0.2199 - val_loss: 0.0248 - val_accuracy: 0.2576\n",
      "Epoch 27/800\n",
      "3338/3338 [==============================] - 3s 851us/sample - loss: 0.0231 - accuracy: 0.2043 - val_loss: 0.0244 - val_accuracy: 0.2693\n",
      "Epoch 28/800\n",
      "3338/3338 [==============================] - 3s 854us/sample - loss: 0.0227 - accuracy: 0.2043 - val_loss: 0.0233 - val_accuracy: 0.3068\n",
      "Epoch 29/800\n",
      "3338/3338 [==============================] - 3s 860us/sample - loss: 0.0204 - accuracy: 0.2364 - val_loss: 0.0218 - val_accuracy: 0.3115\n",
      "Epoch 30/800\n",
      "3338/3338 [==============================] - 3s 842us/sample - loss: 0.0195 - accuracy: 0.2481 - val_loss: 0.0215 - val_accuracy: 0.3197\n",
      "Epoch 31/800\n",
      "3338/3338 [==============================] - 3s 854us/sample - loss: 0.0193 - accuracy: 0.2507 - val_loss: 0.0219 - val_accuracy: 0.3314\n",
      "Epoch 32/800\n",
      "3338/3338 [==============================] - 3s 862us/sample - loss: 0.0192 - accuracy: 0.2522 - val_loss: 0.0216 - val_accuracy: 0.3302\n",
      "Epoch 33/800\n",
      "3338/3338 [==============================] - 3s 863us/sample - loss: 0.0187 - accuracy: 0.2463 - val_loss: 0.0210 - val_accuracy: 0.3162\n",
      "Epoch 34/800\n",
      "3338/3338 [==============================] - 3s 856us/sample - loss: 0.0182 - accuracy: 0.2400 - val_loss: 0.0210 - val_accuracy: 0.3244\n",
      "Epoch 35/800\n",
      "3338/3338 [==============================] - 3s 851us/sample - loss: 0.0179 - accuracy: 0.2382 - val_loss: 0.0214 - val_accuracy: 0.3244\n",
      "Epoch 36/800\n",
      "3338/3338 [==============================] - 3s 849us/sample - loss: 0.0180 - accuracy: 0.2469 - val_loss: 0.0212 - val_accuracy: 0.3255\n",
      "Epoch 37/800\n",
      "3338/3338 [==============================] - 3s 853us/sample - loss: 0.0176 - accuracy: 0.2436 - val_loss: 0.0206 - val_accuracy: 0.3314\n",
      "Epoch 38/800\n",
      "3338/3338 [==============================] - 3s 838us/sample - loss: 0.0175 - accuracy: 0.2487 - val_loss: 0.0207 - val_accuracy: 0.3185\n",
      "Epoch 39/800\n",
      "3338/3338 [==============================] - 3s 848us/sample - loss: 0.0174 - accuracy: 0.2397 - val_loss: 0.0223 - val_accuracy: 0.3091\n",
      "Epoch 40/800\n",
      "3338/3338 [==============================] - 3s 841us/sample - loss: 0.0174 - accuracy: 0.2442 - val_loss: 0.0219 - val_accuracy: 0.2986\n",
      "Epoch 41/800\n",
      "3338/3338 [==============================] - 3s 849us/sample - loss: 0.0170 - accuracy: 0.2352 - val_loss: 0.0209 - val_accuracy: 0.2974\n",
      "Epoch 42/800\n",
      "3338/3338 [==============================] - 3s 854us/sample - loss: 0.0176 - accuracy: 0.2442 - val_loss: 0.0221 - val_accuracy: 0.3220\n",
      "Epoch 43/800\n",
      "3338/3338 [==============================] - 3s 859us/sample - loss: 0.0182 - accuracy: 0.2367 - val_loss: 0.0217 - val_accuracy: 0.3244\n",
      "Epoch 44/800\n",
      "3338/3338 [==============================] - 3s 842us/sample - loss: 0.0174 - accuracy: 0.2433 - val_loss: 0.0205 - val_accuracy: 0.3080\n",
      "Epoch 45/800\n",
      "3338/3338 [==============================] - 3s 856us/sample - loss: 0.0168 - accuracy: 0.2463 - val_loss: 0.0214 - val_accuracy: 0.3080\n",
      "Epoch 46/800\n",
      "3338/3338 [==============================] - 3s 848us/sample - loss: 0.0162 - accuracy: 0.2289 - val_loss: 0.0211 - val_accuracy: 0.2881\n",
      "Epoch 47/800\n",
      "3338/3338 [==============================] - 3s 843us/sample - loss: 0.0158 - accuracy: 0.2549 - val_loss: 0.0207 - val_accuracy: 0.2986\n",
      "Epoch 48/800\n",
      "3338/3338 [==============================] - 3s 847us/sample - loss: 0.0157 - accuracy: 0.2439 - val_loss: 0.0209 - val_accuracy: 0.3115\n",
      "Epoch 49/800\n",
      "3338/3338 [==============================] - 3s 849us/sample - loss: 0.0155 - accuracy: 0.2546 - val_loss: 0.0209 - val_accuracy: 0.2974\n",
      "Epoch 50/800\n",
      "3338/3338 [==============================] - 3s 845us/sample - loss: 0.0152 - accuracy: 0.2510 - val_loss: 0.0209 - val_accuracy: 0.2986\n",
      "Epoch 51/800\n",
      "3338/3338 [==============================] - 3s 857us/sample - loss: 0.0151 - accuracy: 0.2513 - val_loss: 0.0210 - val_accuracy: 0.2986\n",
      "Epoch 52/800\n",
      "3338/3338 [==============================] - 3s 846us/sample - loss: 0.0150 - accuracy: 0.2388 - val_loss: 0.0210 - val_accuracy: 0.2951\n",
      "Epoch 53/800\n",
      "3338/3338 [==============================] - 3s 854us/sample - loss: 0.0150 - accuracy: 0.2549 - val_loss: 0.0210 - val_accuracy: 0.2951\n",
      "Epoch 54/800\n",
      "3338/3338 [==============================] - 3s 850us/sample - loss: 0.0149 - accuracy: 0.2451 - val_loss: 0.0211 - val_accuracy: 0.2927\n",
      "Epoch 55/800\n",
      "3338/3338 [==============================] - 3s 845us/sample - loss: 0.0148 - accuracy: 0.2561 - val_loss: 0.0211 - val_accuracy: 0.2892\n",
      "Epoch 56/800\n",
      "3338/3338 [==============================] - 3s 846us/sample - loss: 0.0148 - accuracy: 0.2454 - val_loss: 0.0211 - val_accuracy: 0.2916\n",
      "Epoch 57/800\n",
      "3338/3338 [==============================] - 3s 851us/sample - loss: 0.0147 - accuracy: 0.2424 - val_loss: 0.0211 - val_accuracy: 0.2881\n",
      "Epoch 58/800\n",
      "3338/3338 [==============================] - 3s 859us/sample - loss: 0.0146 - accuracy: 0.2588 - val_loss: 0.0212 - val_accuracy: 0.2845\n",
      "Epoch 59/800\n",
      "3338/3338 [==============================] - 3s 851us/sample - loss: 0.0146 - accuracy: 0.2543 - val_loss: 0.0212 - val_accuracy: 0.2881\n",
      "Epoch 60/800\n",
      "3338/3338 [==============================] - 3s 854us/sample - loss: 0.0146 - accuracy: 0.2490 - val_loss: 0.0212 - val_accuracy: 0.2822\n",
      "Epoch 61/800\n",
      "3338/3338 [==============================] - 3s 844us/sample - loss: 0.0145 - accuracy: 0.2501 - val_loss: 0.0212 - val_accuracy: 0.2810\n",
      "Epoch 62/800\n",
      "3338/3338 [==============================] - 3s 847us/sample - loss: 0.0145 - accuracy: 0.2552 - val_loss: 0.0213 - val_accuracy: 0.2810\n",
      "Epoch 63/800\n",
      "3338/3338 [==============================] - 3s 854us/sample - loss: 0.0145 - accuracy: 0.2534 - val_loss: 0.0213 - val_accuracy: 0.2799\n",
      "Epoch 64/800\n",
      "3338/3338 [==============================] - 3s 844us/sample - loss: 0.0144 - accuracy: 0.2499 - val_loss: 0.0213 - val_accuracy: 0.2810\n",
      "Epoch 65/800\n",
      "3338/3338 [==============================] - 3s 850us/sample - loss: 0.0144 - accuracy: 0.2615 - val_loss: 0.0213 - val_accuracy: 0.2845\n",
      "Epoch 66/800\n",
      "3338/3338 [==============================] - 3s 851us/sample - loss: 0.0144 - accuracy: 0.2379 - val_loss: 0.0213 - val_accuracy: 0.2845\n",
      "Epoch 67/800\n",
      "3338/3338 [==============================] - 3s 853us/sample - loss: 0.0144 - accuracy: 0.2376 - val_loss: 0.0213 - val_accuracy: 0.2822\n",
      "Epoch 68/800\n",
      "3338/3338 [==============================] - 3s 848us/sample - loss: 0.0143 - accuracy: 0.2645 - val_loss: 0.0214 - val_accuracy: 0.2834\n",
      "Epoch 69/800\n",
      "3338/3338 [==============================] - 3s 830us/sample - loss: 0.0143 - accuracy: 0.2576 - val_loss: 0.0214 - val_accuracy: 0.2845\n",
      "Epoch 70/800\n",
      "3338/3338 [==============================] - 3s 847us/sample - loss: 0.0142 - accuracy: 0.2570 - val_loss: 0.0214 - val_accuracy: 0.2845\n",
      "Epoch 71/800\n",
      "3338/3338 [==============================] - 3s 847us/sample - loss: 0.0142 - accuracy: 0.2624 - val_loss: 0.0214 - val_accuracy: 0.2881\n",
      "Epoch 72/800\n",
      "3338/3338 [==============================] - 3s 839us/sample - loss: 0.0142 - accuracy: 0.2525 - val_loss: 0.0214 - val_accuracy: 0.2857\n",
      "Epoch 73/800\n",
      "3338/3338 [==============================] - 3s 847us/sample - loss: 0.0143 - accuracy: 0.2690 - val_loss: 0.0214 - val_accuracy: 0.2869\n",
      "Epoch 74/800\n",
      "3338/3338 [==============================] - 3s 837us/sample - loss: 0.0142 - accuracy: 0.2442 - val_loss: 0.0214 - val_accuracy: 0.2857\n",
      "Epoch 75/800\n",
      "3338/3338 [==============================] - 3s 849us/sample - loss: 0.0141 - accuracy: 0.2546 - val_loss: 0.0214 - val_accuracy: 0.2881\n",
      "Epoch 76/800\n",
      "3338/3338 [==============================] - 3s 849us/sample - loss: 0.0142 - accuracy: 0.2475 - val_loss: 0.0214 - val_accuracy: 0.2881\n",
      "Epoch 77/800\n",
      "3338/3338 [==============================] - 3s 841us/sample - loss: 0.0142 - accuracy: 0.2633 - val_loss: 0.0214 - val_accuracy: 0.2881\n",
      "Epoch 78/800\n",
      "3338/3338 [==============================] - 3s 854us/sample - loss: 0.0142 - accuracy: 0.2537 - val_loss: 0.0214 - val_accuracy: 0.2869\n",
      "Epoch 79/800\n",
      "3338/3338 [==============================] - 3s 854us/sample - loss: 0.0142 - accuracy: 0.2576 - val_loss: 0.0214 - val_accuracy: 0.2881\n",
      "Epoch 80/800\n",
      "3338/3338 [==============================] - 3s 850us/sample - loss: 0.0141 - accuracy: 0.2525 - val_loss: 0.0214 - val_accuracy: 0.2881\n",
      "Epoch 81/800\n",
      "3338/3338 [==============================] - 3s 848us/sample - loss: 0.0142 - accuracy: 0.2475 - val_loss: 0.0214 - val_accuracy: 0.2869\n",
      "Epoch 82/800\n",
      "3338/3338 [==============================] - 3s 860us/sample - loss: 0.0141 - accuracy: 0.2591 - val_loss: 0.0215 - val_accuracy: 0.2857\n",
      "Epoch 83/800\n",
      "3338/3338 [==============================] - 3s 841us/sample - loss: 0.0141 - accuracy: 0.2472 - val_loss: 0.0215 - val_accuracy: 0.2857\n",
      "Epoch 84/800\n",
      "3338/3338 [==============================] - 3s 846us/sample - loss: 0.0141 - accuracy: 0.2603 - val_loss: 0.0215 - val_accuracy: 0.2857\n",
      "Epoch 85/800\n",
      "3338/3338 [==============================] - 3s 851us/sample - loss: 0.0141 - accuracy: 0.2516 - val_loss: 0.0215 - val_accuracy: 0.2869\n",
      "Epoch 86/800\n",
      "3338/3338 [==============================] - 3s 851us/sample - loss: 0.0141 - accuracy: 0.2469 - val_loss: 0.0215 - val_accuracy: 0.2892\n",
      "Epoch 87/800\n",
      "3338/3338 [==============================] - 3s 862us/sample - loss: 0.0141 - accuracy: 0.2549 - val_loss: 0.0215 - val_accuracy: 0.2892\n",
      "Epoch 88/800\n",
      "3338/3338 [==============================] - 3s 848us/sample - loss: 0.0141 - accuracy: 0.2573 - val_loss: 0.0215 - val_accuracy: 0.2881\n",
      "Epoch 89/800\n",
      "3338/3338 [==============================] - 3s 853us/sample - loss: 0.0141 - accuracy: 0.2546 - val_loss: 0.0215 - val_accuracy: 0.2892\n",
      "Epoch 90/800\n",
      "3338/3338 [==============================] - 3s 847us/sample - loss: 0.0140 - accuracy: 0.2525 - val_loss: 0.0215 - val_accuracy: 0.2881\n",
      "Epoch 91/800\n",
      "3338/3338 [==============================] - 3s 840us/sample - loss: 0.0141 - accuracy: 0.2606 - val_loss: 0.0215 - val_accuracy: 0.2881\n",
      "Epoch 92/800\n",
      "3338/3338 [==============================] - 3s 851us/sample - loss: 0.0141 - accuracy: 0.2522 - val_loss: 0.0215 - val_accuracy: 0.2892\n",
      "Epoch 93/800\n",
      "3338/3338 [==============================] - 3s 840us/sample - loss: 0.0141 - accuracy: 0.2478 - val_loss: 0.0215 - val_accuracy: 0.2881\n",
      "Epoch 94/800\n",
      "3338/3338 [==============================] - 3s 840us/sample - loss: 0.0141 - accuracy: 0.2564 - val_loss: 0.0215 - val_accuracy: 0.2892\n",
      "Epoch 95/800\n",
      "3338/3338 [==============================] - 3s 849us/sample - loss: 0.0141 - accuracy: 0.2433 - val_loss: 0.0215 - val_accuracy: 0.2904\n",
      "Epoch 96/800\n",
      "3338/3338 [==============================] - 3s 853us/sample - loss: 0.0141 - accuracy: 0.2469 - val_loss: 0.0215 - val_accuracy: 0.2904\n",
      "Epoch 97/800\n",
      "3338/3338 [==============================] - 3s 852us/sample - loss: 0.0140 - accuracy: 0.2504 - val_loss: 0.0215 - val_accuracy: 0.2869\n",
      "Epoch 98/800\n",
      "3338/3338 [==============================] - 3s 846us/sample - loss: 0.0140 - accuracy: 0.2618 - val_loss: 0.0215 - val_accuracy: 0.2845\n",
      "Epoch 99/800\n",
      "3338/3338 [==============================] - 3s 838us/sample - loss: 0.0141 - accuracy: 0.2570 - val_loss: 0.0215 - val_accuracy: 0.2857\n",
      "Epoch 100/800\n",
      "3338/3338 [==============================] - 3s 836us/sample - loss: 0.0141 - accuracy: 0.2478 - val_loss: 0.0215 - val_accuracy: 0.2869\n",
      "Epoch 101/800\n",
      "3338/3338 [==============================] - 3s 849us/sample - loss: 0.0140 - accuracy: 0.2537 - val_loss: 0.0215 - val_accuracy: 0.2857\n",
      "Epoch 102/800\n",
      "3338/3338 [==============================] - 3s 849us/sample - loss: 0.0140 - accuracy: 0.2516 - val_loss: 0.0215 - val_accuracy: 0.2881\n",
      "Epoch 103/800\n",
      "3338/3338 [==============================] - 3s 837us/sample - loss: 0.0141 - accuracy: 0.2540 - val_loss: 0.0215 - val_accuracy: 0.2904\n",
      "Epoch 104/800\n",
      "3338/3338 [==============================] - 3s 840us/sample - loss: 0.0140 - accuracy: 0.2493 - val_loss: 0.0215 - val_accuracy: 0.2916\n",
      "Epoch 105/800\n",
      "3338/3338 [==============================] - 3s 852us/sample - loss: 0.0140 - accuracy: 0.2633 - val_loss: 0.0215 - val_accuracy: 0.2916\n",
      "Epoch 106/800\n",
      "3338/3338 [==============================] - 3s 845us/sample - loss: 0.0140 - accuracy: 0.2546 - val_loss: 0.0215 - val_accuracy: 0.2869\n",
      "Epoch 107/800\n",
      "3338/3338 [==============================] - 3s 839us/sample - loss: 0.0140 - accuracy: 0.2528 - val_loss: 0.0215 - val_accuracy: 0.2869\n",
      "Epoch 108/800\n",
      "3338/3338 [==============================] - 3s 851us/sample - loss: 0.0140 - accuracy: 0.2522 - val_loss: 0.0215 - val_accuracy: 0.2869\n",
      "Epoch 109/800\n"
     ]
    },
    {
     "name": "stdout",
     "output_type": "stream",
     "text": [
      "3338/3338 [==============================] - 3s 838us/sample - loss: 0.0140 - accuracy: 0.2528 - val_loss: 0.0215 - val_accuracy: 0.2869\n",
      "Epoch 110/800\n",
      "3338/3338 [==============================] - 3s 849us/sample - loss: 0.0140 - accuracy: 0.2666 - val_loss: 0.0215 - val_accuracy: 0.2904\n",
      "Epoch 111/800\n",
      "3338/3338 [==============================] - 3s 840us/sample - loss: 0.0139 - accuracy: 0.2603 - val_loss: 0.0215 - val_accuracy: 0.2916\n"
     ]
    }
   ],
   "source": [
    "# 初始模型\n",
    "grid_model = Sequential()\n",
    "# grid_model.add(tf.keras.layers.Dense(32, input_shape=(n_steps_in, n_features)))\n",
    "# grid_model.add(tf.keras.layers.Conv1D(48, 1, activation='relu'))\n",
    "grid_model.add(LSTM(144,return_sequences=True,input_shape=(n_steps_in, n_features)))\n",
    "grid_model.add(Dropout(0.1))\n",
    "grid_model.add(LSTM(144))\n",
    "grid_model.add(Dropout(0.1))\n",
    "# grid_model.add(Dense(32, activation='relu'))\n",
    "\n",
    "grid_model.add(tf.keras.layers.Dense(n_steps_out, activation='sigmoid'))\n",
    "\n",
    "\n",
    "    \n",
    "optimizer=tf.keras.optimizers.Adam()\n",
    "grid_model.compile(optimizer=optimizer,\n",
    "              loss=tf.keras.losses.MeanSquaredError(),\n",
    "                  metrics = ['accuracy'])\n",
    "\n",
    "\n",
    "checkpoint_save_path = \"./wuyuhan/checkpoint/LSTM_stock.ckpt\" #模型保存位置\n",
    "\n",
    "# if os.path.exists(checkpoint_save_path + '.index'):\n",
    "#         print('-------------load the model-----------------')\n",
    "#         grid_model.load_weights(checkpoint_save_path)\n",
    "\n",
    "lr_reduce = keras.callbacks.ReduceLROnPlateau('val_loss',     #学习停止，模型会将学习率降低2-10倍，该hui\n",
    "                                                  patience=4,\n",
    "                                                  factor=0.7,\n",
    "                                                  min_lr=0.00001)\n",
    "# best_model = keras.callbacks.ModelCheckpoint(filepath=checkpoint_save_path,#保存模型\n",
    "#                                                  monitor='val_loss',\n",
    "#                                                  verbose=0,\n",
    "#                                                  save_best_only=True,\n",
    "#                                                  save_weights_only=True,\n",
    "#                                                  mode='min',\n",
    "#                                                  )\n",
    "\n",
    "early_stop = keras.callbacks.EarlyStopping(monitor='val_accuracy', min_delta = 0.00003 , patience=100,mode = 'max' )\n",
    "\n",
    "    \n",
    "# grid_model = KerasRegressor(build_fn=build_model,verbose=1)\n",
    "# parameters = {'batch_size' : [64],\n",
    "#               'epochs' : [2],\n",
    "#               'optimizer' : ['adam','Adadelta'],\n",
    "#              }\n",
    "\n",
    "# grid_search  = GridSearchCV(estimator = grid_model,\n",
    "#                             param_grid = parameters,\n",
    "#                             cv = 2)\n",
    "\n",
    "\n",
    "\n",
    "history = grid_model.fit(trainX,trainY,validation_data=(testX,testY),epochs = 800,batch_size = 144,\n",
    "                         callbacks=[early_stop,lr_reduce],verbose = 1,shuffle = False)"
   ]
  },
  {
   "cell_type": "markdown",
   "metadata": {},
   "source": [
    "绘制loss和accuracy曲线"
   ]
  },
  {
   "cell_type": "code",
   "execution_count": 38,
   "metadata": {},
   "outputs": [
    {
     "name": "stdout",
     "output_type": "stream",
     "text": [
      "{'batch_size': 144, 'epochs': 800, 'steps': 24, 'samples': 3338, 'verbose': 0, 'do_validation': True, 'metrics': ['loss', 'accuracy', 'val_loss', 'val_accuracy']}\n"
     ]
    },
    {
     "data": {
      "image/png": "[encoded data removed]",
      "text/plain": [
       "<Figure size 432x288 with 1 Axes>"
      ]
     },
     "metadata": {
      "needs_background": "light"
     },
     "output_type": "display_data"
    }
   ],
   "source": [
    "print(history.params)\n",
    "acc = history.history['accuracy']\n",
    "\n",
    "loss = history.history['loss']\n",
    "val_loss = history.history['val_loss']\n",
    "epochs = range(1, len(acc) + 1)\n",
    " \n",
    "plt.title('Loss')\n",
    "# plt.plot(epochs, acc, 'red', label=' Training acc')\n",
    "plt.plot(epochs, loss, 'blue', label=' Training Loss')\n",
    "plt.plot(epochs, val_loss, 'red', label=' Validation Loss')\n",
    "\n",
    "\n",
    "plt.legend()\n",
    "# plt.savefig('model_test_pic/zhengneng_day/era5_loss_big.png',dpi = 300)\n",
    "plt.show()"
   ]
  },
  {
   "cell_type": "code",
   "execution_count": 33,
   "metadata": {},
   "outputs": [],
   "source": [
    "my_model = history"
   ]
  },
  {
   "cell_type": "code",
   "execution_count": 34,
   "metadata": {},
   "outputs": [
    {
     "name": "stdout",
     "output_type": "stream",
     "text": [
      "\n",
      "Prediction Shape- (854, 36)\n",
      "[[0.03771949 0.04261732 0.05324906 ... 0.03333938 0.02522564 0.02178556]\n",
      " [0.03320017 0.04912609 0.07211185 ... 0.02875757 0.02254337 0.02311689]\n",
      " [0.03844944 0.06686643 0.09979132 ... 0.02443761 0.02344182 0.03105628]\n",
      " ...\n",
      " [0.02068096 0.01828727 0.02251258 ... 0.57575727 0.24056578 0.070375  ]\n",
      " [0.01105782 0.02010334 0.05179393 ... 0.27000198 0.0584788  0.01816306]\n",
      " [0.01736364 0.04222405 0.10083571 ... 0.07883888 0.02116051 0.01392221]]\n",
      "(30744,)\n"
     ]
    }
   ],
   "source": [
    "prediction=grid_model.predict(testX)\n",
    "#print(\"prediction\\n\", prediction)\n",
    "print(\"\\nPrediction Shape-\",prediction.shape)\n",
    "print(prediction)\n",
    "df = pd.DataFrame(prediction)\n",
    "a=[]\n",
    "for i in range(0,len(df),1):##每隔86行取数据\n",
    "    a.append(i)\n",
    "file = df.iloc[a].to_numpy()\n",
    "prediction = file.flatten()\n",
    "prediction\n",
    "print(prediction.shape)"
   ]
  },
  {
   "cell_type": "code",
   "execution_count": 35,
   "metadata": {},
   "outputs": [
    {
     "name": "stdout",
     "output_type": "stream",
     "text": [
      "(30744,)\n"
     ]
    }
   ],
   "source": [
    "df3 = pd.DataFrame(testY)\n",
    "a=[]\n",
    "for i in range(0,len(df3),1):##每隔86行取数据\n",
    "    a.append(i)\n",
    "file2 = df3.iloc[a].to_numpy()\n",
    "testY = file2.flatten()\n",
    "testY\n",
    "print(testY.shape)"
   ]
  },
  {
   "cell_type": "code",
   "execution_count": 36,
   "metadata": {},
   "outputs": [
    {
     "data": {
      "text/plain": [
       "array([[0.03771949, 0.04261732, 0.05324906, ..., 0.07883888, 0.02116051,\n",
       "        0.01392221],\n",
       "       [0.        , 0.        , 0.02721552, ..., 0.04969861, 0.        ,\n",
       "        0.        ]])"
      ]
     },
     "execution_count": 36,
     "metadata": {},
     "output_type": "execute_result"
    }
   ],
   "source": [
    "c = np.vstack((prediction,testY))\n",
    "c\n",
    "# pd.DataFrame(c).to_csv(r'./LSTM_monthsplit_day/lanneng/era5_min_500ep.csv')"
   ]
  },
  {
   "cell_type": "code",
   "execution_count": 38,
   "metadata": {},
   "outputs": [],
   "source": [
    "# 对预测后的缩放值（-1，1）进行逆变换\n",
    "def inverse_difference(last_ob, forecast):\n",
    "    # invert first forecast\n",
    "    inverted = list()\n",
    "    inverted.append(forecast[0] + last_ob)\n",
    "    # propagate difference forecast using inverted first value\n",
    "    for i in range(1, len(forecast)):\n",
    "        inverted.append(forecast[i] + inverted[i - 1])\n",
    "    return inverted\n",
    " \n",
    " \n",
    "# 对预测完成的数据进行逆变换\n",
    "def inverse_transform(series, forecasts, scaler, n_test):\n",
    "    inverted = list()\n",
    "    for i in range(len(forecasts)):\n",
    "        # create array from forecast\n",
    "        forecast = array(forecasts[i])\n",
    "        forecast = forecast.reshape(1, len(forecast))\n",
    "        # 将预测后的数据缩放逆转换\n",
    "        inv_scale = scaler.inverse_transform(forecast)\n",
    "        inv_scale = inv_scale[0, :]\n",
    "        # invert differencing\n",
    "        index = len(series) - n_test + i - 1\n",
    "        last_ob = series.values[index]\n",
    "        # 将预测后的数据差值逆转换\n",
    "        inv_diff = inverse_difference(last_ob, inv_scale)\n",
    "        # 保存数据\n",
    "        inverted.append(inv_diff)\n",
    "    return inverted\n"
   ]
  },
  {
   "cell_type": "code",
   "execution_count": 39,
   "metadata": {},
   "outputs": [],
   "source": [
    "def evaluate_forecasts(test, forecasts, n_lag, n_seq):\n",
    "    for i in range(n_seq):\n",
    "        actual = [row[i] for row in test]\n",
    "        predicted = [forecast[i] for forecast in forecasts]\n",
    "        rmse = sqrt(mean_squared_error(actual, predicted))\n",
    "        print('t+%d RMSE: %f' % ((i + 1), rmse))\n",
    "\n",
    "# evaluate_forecasts(testY, prediction, 3, 2)"
   ]
  },
  {
   "cell_type": "markdown",
   "metadata": {},
   "source": []
  },
  {
   "cell_type": "code",
   "execution_count": 40,
   "metadata": {},
   "outputs": [],
   "source": [
    "prediction_copies_array = np.repeat(prediction,n_features+1, axis=-1)"
   ]
  },
  {
   "cell_type": "code",
   "execution_count": 41,
   "metadata": {
    "scrolled": false
   },
   "outputs": [
    {
     "name": "stdout",
     "output_type": "stream",
     "text": [
      "[0.03771949 0.03771949 0.03771949 ... 0.01392221 0.01392221 0.01392221]\n"
     ]
    }
   ],
   "source": [
    "prediction_copies_array.shape\n",
    "print(prediction_copies_array)"
   ]
  },
  {
   "cell_type": "markdown",
   "metadata": {},
   "source": [
    "10对应的是从0开始，预测值位于第10列，9对应的是从1开始，预测值位于第9列，后续所有的9和10都和预测值所处的列数位置直接关联"
   ]
  },
  {
   "cell_type": "code",
   "execution_count": 42,
   "metadata": {},
   "outputs": [
    {
     "data": {
      "text/plain": [
       "array([4.4466977, 5.0240965, 6.277457 , ..., 9.294206 , 2.4945834,\n",
       "       1.6412704], dtype=float32)"
      ]
     },
     "execution_count": 42,
     "metadata": {},
     "output_type": "execute_result"
    }
   ],
   "source": [
    "pred=scaler.inverse_transform(np.reshape(prediction_copies_array,(len(prediction),n_features+1)))\n",
    "pred = pred[:,n_features]\n",
    "pred"
   ]
  },
  {
   "cell_type": "code",
   "execution_count": 43,
   "metadata": {},
   "outputs": [
    {
     "data": {
      "text/plain": [
       "array([0.    , 0.    , 3.2084, ..., 5.8589, 0.    , 0.    ])"
      ]
     },
     "execution_count": 43,
     "metadata": {},
     "output_type": "execute_result"
    }
   ],
   "source": [
    "original_copies_array = np.repeat(testY,n_features+1, axis=-1)\n",
    "original_copies_array.shape\n",
    "original=scaler.inverse_transform(np.reshape(original_copies_array,(len(testY),n_features+1)))[:,n_features]\n",
    "original"
   ]
  },
  {
   "cell_type": "markdown",
   "metadata": {},
   "source": [
    "合并预测值和真实值两列数据"
   ]
  },
  {
   "cell_type": "code",
   "execution_count": 44,
   "metadata": {
    "scrolled": false
   },
   "outputs": [
    {
     "name": "stdout",
     "output_type": "stream",
     "text": [
      "(2, 30744)\n"
     ]
    }
   ],
   "source": [
    "c = np.vstack((original,pred))\n",
    "c\n",
    "print(c.shape)\n",
    "pd.DataFrame(c).to_csv(r'./model_test/zhengneng_day/era5_big.csv')"
   ]
  },
  {
   "cell_type": "markdown",
   "metadata": {},
   "source": [
    "计算模型精度！！"
   ]
  },
  {
   "cell_type": "code",
   "execution_count": 45,
   "metadata": {},
   "outputs": [
    {
     "name": "stdout",
     "output_type": "stream",
     "text": [
      "MSE: 415.781472081262\n",
      "RMSE: 20.390720244298926\n",
      "MAE: 13.835917888824872\n",
      "R2: 0.6828333772621675\n"
     ]
    }
   ],
   "source": [
    "def val(y_real,y_pred):\n",
    "    MSE = metrics.mean_squared_error(y_real,y_pred)\n",
    "    RMSE = metrics.mean_squared_error(y_real,y_pred)**0.5\n",
    "    MAE = metrics.mean_absolute_error(y_real,y_pred)\n",
    "    R2 = metrics.r2_score(y_real,y_pred)\n",
    "    \n",
    "    print(\"MSE:\",MSE)\n",
    "    print(\"RMSE:\",RMSE)\n",
    "    print(\"MAE:\",MAE)\n",
    "    print(\"R2:\",R2)\n",
    "val(original,pred)"
   ]
  },
  {
   "cell_type": "code",
   "execution_count": 46,
   "metadata": {},
   "outputs": [
    {
     "name": "stdout",
     "output_type": "stream",
     "text": [
      "MSE: 415.781472081262\n",
      "RMSE: 20.390720244298926\n",
      "MAE: 13.835917888824872\n",
      "R2: 0.6828333772621675\n"
     ]
    }
   ],
   "source": [
    "def val(y_real,y_pred):\n",
    "    MSE = metrics.mean_squared_error(y_real,y_pred)\n",
    "    RMSE = metrics.mean_squared_error(y_real,y_pred)**0.5\n",
    "    MAE = metrics.mean_absolute_error(y_real,y_pred)\n",
    "    R2 = metrics.r2_score(y_real,y_pred)\n",
    "    \n",
    "    print(\"MSE:\",MSE)\n",
    "    print(\"RMSE:\",RMSE)\n",
    "    print(\"MAE:\",MAE)\n",
    "    print(\"R2:\",R2)\n",
    "val(original,pred)"
   ]
  },
  {
   "cell_type": "markdown",
   "metadata": {},
   "source": [
    "将array导出为csv，散点图绘制"
   ]
  },
  {
   "cell_type": "code",
   "execution_count": 47,
   "metadata": {},
   "outputs": [],
   "source": [
    "# pd.DataFrame(c).to_csv(r'./LSTM_monthsplit/zhengneng/gfs_800ep.csv')"
   ]
  },
  {
   "cell_type": "markdown",
   "metadata": {},
   "source": [
    "作图分析模型精度"
   ]
  },
  {
   "cell_type": "code",
   "execution_count": 50,
   "metadata": {},
   "outputs": [
    {
     "name": "stdout",
     "output_type": "stream",
     "text": [
      "\n",
      "Prediction Shape- (854, 36)\n",
      "[[0.03771949 0.04261732 0.05324906 ... 0.03333938 0.02522564 0.02178556]\n",
      " [0.03320017 0.04912609 0.07211185 ... 0.02875757 0.02254337 0.02311689]\n",
      " [0.03844944 0.06686643 0.09979132 ... 0.02443761 0.02344182 0.03105628]\n",
      " ...\n",
      " [0.02068096 0.01828727 0.02251258 ... 0.57575727 0.24056578 0.070375  ]\n",
      " [0.01105782 0.02010334 0.05179393 ... 0.27000198 0.0584788  0.01816306]\n",
      " [0.01736364 0.04222405 0.10083571 ... 0.07883888 0.02116051 0.01392221]]\n",
      "(864,)\n"
     ]
    }
   ],
   "source": [
    "prediction=grid_model.predict(testX)\n",
    "#print(\"prediction\\n\", prediction)\n",
    "print(\"\\nPrediction Shape-\",prediction.shape)\n",
    "print(prediction)\n",
    "df = pd.DataFrame(prediction)\n",
    "a=[]\n",
    "for i in range(0,len(df),n_steps_out):##每隔86行取数据\n",
    "    a.append(i)\n",
    "file = df.iloc[a].to_numpy()\n",
    "prediction = file.flatten()\n",
    "prediction\n",
    "print(prediction.shape)\n",
    "\n",
    "\n"
   ]
  },
  {
   "cell_type": "code",
   "execution_count": 70,
   "metadata": {},
   "outputs": [
    {
     "name": "stdout",
     "output_type": "stream",
     "text": [
      "(864,)\n"
     ]
    }
   ],
   "source": [
    "df3 = pd.DataFrame(testY)\n",
    "a=[]\n",
    "for i in range(0,len(df3),n_steps_out):##每隔86行取数据\n",
    "    a.append(i)\n",
    "file2 = df3.iloc[a].to_numpy()\n",
    "testY = file2.flatten()\n",
    "testY\n",
    "print(testY.shape)"
   ]
  },
  {
   "cell_type": "code",
   "execution_count": 71,
   "metadata": {},
   "outputs": [],
   "source": [
    "prediction_copies_array = np.repeat(prediction,n_features+1, axis=-1)\n",
    "\n",
    "pred=scaler.inverse_transform(np.reshape(prediction_copies_array,(len(prediction),n_features+1)))\n",
    "pred = pred[:,n_features]\n",
    "pred\n",
    "\n",
    "original_copies_array = np.repeat(testY,n_features+1, axis=-1)\n",
    "original_copies_array.shape\n",
    "original=scaler.inverse_transform(np.reshape(original_copies_array,(len(testY),n_features+1)))[:,n_features]\n"
   ]
  },
  {
   "cell_type": "code",
   "execution_count": 72,
   "metadata": {},
   "outputs": [
    {
     "data": {
      "image/png": "[encoded data removed]",
      "text/plain": [
       "<Figure size 432x288 with 1 Axes>"
      ]
     },
     "metadata": {
      "needs_background": "light"
     },
     "output_type": "display_data"
    }
   ],
   "source": [
    "# plt.plot(original[:100,], color = 'red', label = 'Observed')\n",
    "# plt.plot(pred[:100,], '-.', label = 'Predicted')\n",
    "# plt.title('Forecast with Updates')\n",
    "# plt.xlabel('Time(h)')\n",
    "# plt.ylabel('Power consumption(MW)')\n",
    "# plt.legend()\n",
    "# # plt.savefig('CNN-LSTM/lanneng/gfs_500ep.png',dpi = 300)\n",
    "# plt.show()\n",
    "\n",
    "fig = plt.figure()\n",
    "# a1 = fig.add_axes([0,0,1,1])\n",
    "# a1.set_ylim(-5,100)\n",
    "# a1.set_xlim(-5,100)\n",
    "plt.plot(original[200:300,], color = 'red', label = 'Observed')\n",
    "plt.plot(pred[200:300,], '-.', label = 'Predicted')\n",
    "plt.ylim(-5,120)\n",
    "plt.title('Forecast of Photovoltaic Power Generation')\n",
    "plt.xlabel('Time(h)')\n",
    "plt.ylabel('Power consumption(MW)')\n",
    "plt.legend(loc = 'upper left')\n",
    "plt.savefig('model_test_pic/zhengneng_day/era5_big.png',dpi = 300)\n",
    "plt.show()"
   ]
  },
  {
   "cell_type": "code",
   "execution_count": 48,
   "metadata": {},
   "outputs": [],
   "source": [
    "from tensorflow.keras.models import Model\n",
    "from tensorflow.keras.models import load_model\n",
    "#保存模型\n",
    "grid_model.save('./LSTM_monthsplit/zhengneng/gfs_800ep.h5')"
   ]
  },
  {
   "cell_type": "markdown",
   "metadata": {},
   "source": [
    "导入模型进行预测，Time单位与数据的time时间分辨率一致，如1Time代表15min"
   ]
  },
  {
   "cell_type": "code",
   "execution_count": 52,
   "metadata": {},
   "outputs": [
    {
     "ename": "AttributeError",
     "evalue": "'str' object has no attribute 'decode'",
     "output_type": "error",
     "traceback": [
      "\u001b[0;31m---------------------------------------------------------------------------\u001b[0m",
      "\u001b[0;31mAttributeError\u001b[0m                            Traceback (most recent call last)",
      "\u001b[0;32m<ipython-input-52-734b974b44d0>\u001b[0m in \u001b[0;36m<module>\u001b[0;34m\u001b[0m\n\u001b[1;32m      1\u001b[0m \u001b[0;32mimport\u001b[0m \u001b[0mtensorflow\u001b[0m \u001b[0;32mas\u001b[0m \u001b[0mtf\u001b[0m\u001b[0;34m\u001b[0m\u001b[0;34m\u001b[0m\u001b[0m\n\u001b[0;32m----> 2\u001b[0;31m \u001b[0mnew_model\u001b[0m \u001b[0;34m=\u001b[0m \u001b[0mtf\u001b[0m\u001b[0;34m.\u001b[0m\u001b[0mkeras\u001b[0m\u001b[0;34m.\u001b[0m\u001b[0mmodels\u001b[0m\u001b[0;34m.\u001b[0m\u001b[0mload_model\u001b[0m\u001b[0;34m(\u001b[0m\u001b[0;34m'./CNN-LSTM/lanneng/gfs_500ep.h5'\u001b[0m\u001b[0;34m)\u001b[0m\u001b[0;34m\u001b[0m\u001b[0;34m\u001b[0m\u001b[0m\n\u001b[0m\u001b[1;32m      3\u001b[0m \u001b[0mprediction\u001b[0m\u001b[0;34m=\u001b[0m\u001b[0mnew_model\u001b[0m\u001b[0;34m(\u001b[0m\u001b[0mtestX\u001b[0m\u001b[0;34m)\u001b[0m\u001b[0;34m\u001b[0m\u001b[0;34m\u001b[0m\u001b[0m\n\u001b[1;32m      4\u001b[0m \u001b[0mprediction_copies_array\u001b[0m \u001b[0;34m=\u001b[0m \u001b[0mnp\u001b[0m\u001b[0;34m.\u001b[0m\u001b[0mrepeat\u001b[0m\u001b[0;34m(\u001b[0m\u001b[0mprediction\u001b[0m\u001b[0;34m,\u001b[0m\u001b[0;36m54\u001b[0m\u001b[0;34m,\u001b[0m \u001b[0maxis\u001b[0m\u001b[0;34m=\u001b[0m\u001b[0;34m-\u001b[0m\u001b[0;36m1\u001b[0m\u001b[0;34m)\u001b[0m\u001b[0;34m\u001b[0m\u001b[0;34m\u001b[0m\u001b[0m\n\u001b[1;32m      5\u001b[0m \u001b[0mpred\u001b[0m\u001b[0;34m=\u001b[0m\u001b[0mscaler\u001b[0m\u001b[0;34m.\u001b[0m\u001b[0minverse_transform\u001b[0m\u001b[0;34m(\u001b[0m\u001b[0mnp\u001b[0m\u001b[0;34m.\u001b[0m\u001b[0mreshape\u001b[0m\u001b[0;34m(\u001b[0m\u001b[0mprediction_copies_array\u001b[0m\u001b[0;34m,\u001b[0m\u001b[0;34m(\u001b[0m\u001b[0mlen\u001b[0m\u001b[0;34m(\u001b[0m\u001b[0mprediction\u001b[0m\u001b[0;34m)\u001b[0m\u001b[0;34m,\u001b[0m\u001b[0;36m54\u001b[0m\u001b[0;34m)\u001b[0m\u001b[0;34m)\u001b[0m\u001b[0;34m)\u001b[0m\u001b[0;34m\u001b[0m\u001b[0;34m\u001b[0m\u001b[0m\n",
      "\u001b[0;32m~/anaconda3/envs/tf_cpu1/lib/python3.6/site-packages/tensorflow_core/python/keras/saving/save.py\u001b[0m in \u001b[0;36mload_model\u001b[0;34m(filepath, custom_objects, compile)\u001b[0m\n\u001b[1;32m    144\u001b[0m   if (h5py is not None and (\n\u001b[1;32m    145\u001b[0m       isinstance(filepath, h5py.File) or h5py.is_hdf5(filepath))):\n\u001b[0;32m--> 146\u001b[0;31m     \u001b[0;32mreturn\u001b[0m \u001b[0mhdf5_format\u001b[0m\u001b[0;34m.\u001b[0m\u001b[0mload_model_from_hdf5\u001b[0m\u001b[0;34m(\u001b[0m\u001b[0mfilepath\u001b[0m\u001b[0;34m,\u001b[0m \u001b[0mcustom_objects\u001b[0m\u001b[0;34m,\u001b[0m \u001b[0mcompile\u001b[0m\u001b[0;34m)\u001b[0m\u001b[0;34m\u001b[0m\u001b[0;34m\u001b[0m\u001b[0m\n\u001b[0m\u001b[1;32m    147\u001b[0m \u001b[0;34m\u001b[0m\u001b[0m\n\u001b[1;32m    148\u001b[0m   \u001b[0;32mif\u001b[0m \u001b[0misinstance\u001b[0m\u001b[0;34m(\u001b[0m\u001b[0mfilepath\u001b[0m\u001b[0;34m,\u001b[0m \u001b[0msix\u001b[0m\u001b[0;34m.\u001b[0m\u001b[0mstring_types\u001b[0m\u001b[0;34m)\u001b[0m\u001b[0;34m:\u001b[0m\u001b[0;34m\u001b[0m\u001b[0;34m\u001b[0m\u001b[0m\n",
      "\u001b[0;32m~/anaconda3/envs/tf_cpu1/lib/python3.6/site-packages/tensorflow_core/python/keras/saving/hdf5_format.py\u001b[0m in \u001b[0;36mload_model_from_hdf5\u001b[0;34m(filepath, custom_objects, compile)\u001b[0m\n\u001b[1;32m    164\u001b[0m     \u001b[0;32mif\u001b[0m \u001b[0mmodel_config\u001b[0m \u001b[0;32mis\u001b[0m \u001b[0;32mNone\u001b[0m\u001b[0;34m:\u001b[0m\u001b[0;34m\u001b[0m\u001b[0;34m\u001b[0m\u001b[0m\n\u001b[1;32m    165\u001b[0m       \u001b[0;32mraise\u001b[0m \u001b[0mValueError\u001b[0m\u001b[0;34m(\u001b[0m\u001b[0;34m'No model found in config file.'\u001b[0m\u001b[0;34m)\u001b[0m\u001b[0;34m\u001b[0m\u001b[0;34m\u001b[0m\u001b[0m\n\u001b[0;32m--> 166\u001b[0;31m     \u001b[0mmodel_config\u001b[0m \u001b[0;34m=\u001b[0m \u001b[0mjson\u001b[0m\u001b[0;34m.\u001b[0m\u001b[0mloads\u001b[0m\u001b[0;34m(\u001b[0m\u001b[0mmodel_config\u001b[0m\u001b[0;34m.\u001b[0m\u001b[0mdecode\u001b[0m\u001b[0;34m(\u001b[0m\u001b[0;34m'utf-8'\u001b[0m\u001b[0;34m)\u001b[0m\u001b[0;34m)\u001b[0m\u001b[0;34m\u001b[0m\u001b[0;34m\u001b[0m\u001b[0m\n\u001b[0m\u001b[1;32m    167\u001b[0m     model = model_config_lib.model_from_config(model_config,\n\u001b[1;32m    168\u001b[0m                                                custom_objects=custom_objects)\n",
      "\u001b[0;31mAttributeError\u001b[0m: 'str' object has no attribute 'decode'"
     ]
    }
   ],
   "source": [
    "import tensorflow as tf\n",
    "new_model = tf.keras.models.load_model('./CNN-LSTM/lanneng/gfs_800ep.h5')\n",
    "prediction=new_model(testX)\n",
    "prediction_copies_array = np.repeat(prediction,54, axis=-1)\n",
    "pred=scaler.inverse_transform(np.reshape(prediction_copies_array,(len(prediction),54)))\n",
    "print(pred.shape)\n",
    "pred = pred[:240,100]\n",
    "plt.plot(pred, '-.', label = 'Predicted')\n",
    "plt.title('Forecast with Updates')\n",
    "plt.xlabel('Time')\n",
    "plt.ylabel('Power consumption')\n",
    "plt.legend()\n",
    "# plt.savefig('figs/Forecast_gfs_all_2.png', dpi = 300)\n",
    "plt.show()"
   ]
  }
 ],
 "metadata": {
  "kernelspec": {
   "display_name": "tf_cpu1",
   "language": "python",
   "name": "tf_cpu1"
  },
  "language_info": {
   "codemirror_mode": {
    "name": "ipython",
    "version": 3
   },
   "file_extension": ".py",
   "mimetype": "text/x-python",
   "name": "python",
   "nbconvert_exporter": "python",
   "pygments_lexer": "ipython3",
   "version": "3.6.12"
  }
 },
 "nbformat": 4,
 "nbformat_minor": 2
}
